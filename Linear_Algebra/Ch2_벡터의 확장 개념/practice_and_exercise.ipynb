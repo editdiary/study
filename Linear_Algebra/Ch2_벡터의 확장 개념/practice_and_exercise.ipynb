{
 "cells": [
  {
   "cell_type": "code",
   "execution_count": 4,
   "metadata": {},
   "outputs": [],
   "source": [
    "import numpy as np\n",
    "import matplotlib.pyplot as plt\n",
    "import pandas as pd"
   ]
  },
  {
   "cell_type": "markdown",
   "metadata": {},
   "source": [
    "# Linear weighted combinations"
   ]
  },
  {
   "cell_type": "code",
   "execution_count": 2,
   "metadata": {},
   "outputs": [
    {
     "data": {
      "text/plain": [
       "array([ -7,  -4, -13])"
      ]
     },
     "execution_count": 2,
     "metadata": {},
     "output_type": "execute_result"
    }
   ],
   "source": [
    "l1 = 1\n",
    "l2 = 2\n",
    "l3 = -3\n",
    "\n",
    "v1 = np.array([4, 5, 1])\n",
    "v2 = np.array([-4, 0, -4])\n",
    "v3 = np.array([1, 3, 2])\n",
    "\n",
    "l1*v1 + l2*v2 + l3*v3"
   ]
  },
  {
   "cell_type": "code",
   "execution_count": null,
   "metadata": {},
   "outputs": [],
   "source": []
  },
  {
   "cell_type": "markdown",
   "metadata": {},
   "source": [
    "# Exercises"
   ]
  },
  {
   "cell_type": "markdown",
   "metadata": {},
   "source": [
    "## Exercise 1"
   ]
  },
  {
   "cell_type": "code",
   "execution_count": 3,
   "metadata": {},
   "outputs": [
    {
     "data": {
      "text/plain": [
       "array([ -7.,  -4., -13.])"
      ]
     },
     "execution_count": 3,
     "metadata": {},
     "output_type": "execute_result"
    }
   ],
   "source": [
    "# organized into lists\n",
    "scalars = [l1, l2, l3]    # l1 = 1, l2 = 2, l3 = -3\n",
    "vectors = [v1, v2, v3]    # v1 = [4, 5, 1], v2 = [-4, 0, -4], v3 = [1, 3, 2]\n",
    "\n",
    "# initialize the linear combination\n",
    "linCombo = np.zeros(len(v1))\n",
    "\n",
    "# impplement linear weighted combination using zip()\n",
    "for s, v in zip(scalars, vectors):\n",
    "    linCombo += s*v\n",
    "\n",
    "# confirm it's the same answer as above\n",
    "linCombo"
   ]
  },
  {
   "cell_type": "markdown",
   "metadata": {},
   "source": [
    "## Exercise 2"
   ]
  },
  {
   "cell_type": "code",
   "execution_count": 4,
   "metadata": {},
   "outputs": [
    {
     "ename": "IndexError",
     "evalue": "list index out of range",
     "output_type": "error",
     "traceback": [
      "\u001b[1;31m---------------------------------------------------------------------------\u001b[0m",
      "\u001b[1;31mIndexError\u001b[0m                                Traceback (most recent call last)",
      "\u001b[1;32m~\\AppData\\Local\\Temp\\ipykernel_29116\\1236615384.py\u001b[0m in \u001b[0;36m<module>\u001b[1;34m\u001b[0m\n\u001b[0;32m     10\u001b[0m \u001b[1;33m\u001b[0m\u001b[0m\n\u001b[0;32m     11\u001b[0m \u001b[1;32mfor\u001b[0m \u001b[0mi\u001b[0m \u001b[1;32min\u001b[0m \u001b[0mrange\u001b[0m\u001b[1;33m(\u001b[0m\u001b[0mlen\u001b[0m\u001b[1;33m(\u001b[0m\u001b[0mscalars\u001b[0m\u001b[1;33m)\u001b[0m\u001b[1;33m)\u001b[0m\u001b[1;33m:\u001b[0m\u001b[1;33m\u001b[0m\u001b[1;33m\u001b[0m\u001b[0m\n\u001b[1;32m---> 12\u001b[1;33m     \u001b[0mlinCombo\u001b[0m \u001b[1;33m+=\u001b[0m \u001b[0mscalars\u001b[0m\u001b[1;33m[\u001b[0m\u001b[0mi\u001b[0m\u001b[1;33m]\u001b[0m \u001b[1;33m*\u001b[0m \u001b[0mvectors\u001b[0m\u001b[1;33m[\u001b[0m\u001b[0mi\u001b[0m\u001b[1;33m]\u001b[0m\u001b[1;33m\u001b[0m\u001b[1;33m\u001b[0m\u001b[0m\n\u001b[0m",
      "\u001b[1;31mIndexError\u001b[0m: list index out of range"
     ]
    }
   ],
   "source": [
    "# Whether it works or throws an error depends on how you set up the code.\n",
    "# Using zip() as above works, because zip() will use only the minimum-matching items.\n",
    "# Re-writing the code using indexing will cause an error, as in the code below.\n",
    "\n",
    "# make the scalars longer\n",
    "scalars = [l1, l2, l3, 5]\n",
    "vectors = [v1, v2, v3]\n",
    "\n",
    "linCombo = np.zeros(len(v1))\n",
    "\n",
    "for i in range(len(scalars)):\n",
    "    linCombo += scalars[i] * vectors[i]"
   ]
  },
  {
   "cell_type": "markdown",
   "metadata": {},
   "source": [
    "## Exercise 3"
   ]
  },
  {
   "cell_type": "code",
   "execution_count": 6,
   "metadata": {},
   "outputs": [
    {
     "data": {
      "image/png": "[encoded data removed]",
      "text/plain": [
       "<Figure size 600x600 with 1 Axes>"
      ]
     },
     "metadata": {},
     "output_type": "display_data"
    }
   ],
   "source": [
    "# the vector set (just one vector)\n",
    "A = np.array([1, 3])\n",
    "\n",
    "# x-axis range\n",
    "xlim = [-4, 4]\n",
    "\n",
    "# random scalars in that range\n",
    "scalars = np.random.uniform(low=xlim[0], high=xlim[1], size=100)\n",
    "\n",
    "\n",
    "# cleate a figure, etc\n",
    "plt.figure(figsize=(6, 6))\n",
    "\n",
    "# loop over the random scalars\n",
    "for s in scalars:\n",
    "    \n",
    "    #create point p\n",
    "    p = A*s\n",
    "\n",
    "    # plot it\n",
    "    plt.plot(p[0], p[1], 'ko')\n",
    "\n",
    "plt.xlim(xlim)\n",
    "plt.ylim(xlim)\n",
    "plt.grid()\n",
    "plt.text(-4.5, 4.5, '(A)', fontweight='bold', fontsize=18)\n",
    "plt.show()"
   ]
  },
  {
   "cell_type": "code",
   "execution_count": 9,
   "metadata": {},
   "outputs": [
    {
     "data": {
      "application/vnd.plotly.v1+json": {
       "config": {
        "plotlyServerURL": "https://plot.ly"
       },
       "data": [
        {
         "marker": {
          "color": "black",
          "size": 6
         },
         "mode": "markers",
         "type": "scatter3d",
         "x": [
          -2.5603094646747957,
          1.129509432453264,
          0.795763754029033,
          -0.36186231084572995,
          3.2689577160056604,
          0.12870769384358738,
          4.998933143428555,
          -0.6767119430201456,
          9.66062442555387,
          -0.983990109223499,
          -11.870515660058675,
          -8.658371354958435,
          4.6249083797291,
          -1.7776815277262328,
          -9.574428269371445,
          3.716142412906085,
          5.80521286616297,
          -4.216920013793921,
          -6.630334952738114,
          9.79366818763519,
          -7.216283345923502,
          -7.0343040277292594,
          7.898311684269998,
          5.499749813387114,
          -0.4800675927212552,
          -6.382926571066924,
          -3.8310909469053085,
          5.371211252234563,
          4.0408146126563915,
          -10.529476797664314,
          -0.6765876935876536,
          -3.819522586186923,
          -6.204775503700333,
          -11.70676653126771,
          7.899018136484589,
          -0.3951578635610371,
          8.586752702284283,
          2.8889247539850107,
          2.1794437689031563,
          9.915507955645392,
          -2.6367188960260126,
          2.562391973974388,
          -4.663660425441464,
          -10.04331618236013,
          -1.1979952544157157,
          2.7282090480913554,
          4.215141000796823,
          4.000770190116866,
          -1.0435997764955793,
          -8.361531101049241,
          -0.15456863450763159,
          -4.413807959606145,
          0.28122226743400436,
          5.966612462436669,
          10.340368843261771,
          -7.9802032751476455,
          -11.847474998887986,
          1.7008818909160262,
          5.412356895796368,
          10.462344588653057,
          11.376836506280963,
          -10.484311820013026,
          -1.1937852398712865,
          6.6993655405378885,
          9.761213854162342,
          5.733018669763726,
          0.9994815236792425,
          0.3308513426625357,
          2.9529313590479003,
          2.0772778236105482,
          4.531931447035715,
          4.590820645047459,
          11.350001402327763,
          9.76333712221821,
          3.5087736293165843,
          2.918666784798307,
          -3.887601399005984,
          6.9726662850368655,
          -0.36758661198271536,
          11.250133495545288,
          -8.399619862134418,
          10.71612968489353,
          -4.247593678270512,
          9.13537965912594,
          -2.764557728540492,
          -9.714539527698982,
          4.8497911053284435,
          11.092169660146133,
          -7.792890360516445,
          9.928723489811675,
          0.913103485729529,
          -8.458346944922472,
          -1.575190016019672,
          8.713531765254434,
          -8.05685440260105,
          -8.204757319170398,
          -0.11596511640370366,
          8.712577828690954,
          -8.185361888823548,
          -10.296781753572539
         ],
         "y": [
          -6.517956862850794,
          4.721025057857738,
          -1.8091760650072741,
          -3.9990628550406093,
          1.0572388806945803,
          3.5723118565339274,
          12.07343000877642,
          -2.899642647286,
          15.464094987922829,
          -6.126845088298508,
          -17.305121064852926,
          -21.195671025332068,
          0.9313436269195394,
          4.368261589918286,
          -13.756395099838644,
          5.370736101469366,
          16.232262693674926,
          0.4813323473025015,
          -14.184655208514172,
          11.372685451649648,
          -8.48565907842231,
          -17.606998617810362,
          16.853334881419265,
          17.150512186022215,
          6.6254275565123635,
          -4.6892130236553875,
          -9.360068239727756,
          2.710386306082972,
          12.562352690880957,
          -20.152813861854785,
          -1.280312160733101,
          -7.395330521809272,
          -9.923043705289858,
          -16.58908224263912,
          12.523308300576945,
          3.992687947537865,
          15.714995803070403,
          9.01883883373438,
          5.558849201546626,
          19.001003204185025,
          3.169252729850836,
          4.9089351772520216,
          -15.516533673726066,
          -21.949855056212773,
          -1.220590597627547,
          4.226440962610396,
          9.78254278567911,
          1.7992918220104732,
          -8.544708223542953,
          -7.919079466701406,
          -4.673533142528708,
          -13.964994223996051,
          -6.81333679318202,
          14.180535314281899,
          9.234043076751792,
          -19.062721735763862,
          -19.734027622405534,
          -2.337666809426903,
          1.121018071542478,
          10.66874853392221,
          23.847504800487854,
          -23.02578428071198,
          -3.607305916720704,
          7.799115559903093,
          14.392242511294716,
          10.645717857613967,
          -2.5384034814879977,
          8.249007986179258,
          2.984420079495534,
          9.54574804238295,
          1.6193122692535198,
          0.35907013561895607,
          19.70247675483379,
          12.968807827288133,
          -1.7011421553406976,
          -0.003276356293009819,
          -0.405536336718173,
          15.397453869969901,
          -6.8396005357155625,
          24.78837221556494,
          -9.966449394164837,
          24.844723720868323,
          -2.8542826431077177,
          21.844413221099643,
          -11.312033134160645,
          -19.645906883300626,
          10.77262187254359,
          18.992285890042595,
          -13.405057341103976,
          15.50697794816639,
          -5.76739454105963,
          -18.901234026638875,
          3.4575598135459114,
          6.599312346834685,
          -6.109841416919778,
          -6.580455109094595,
          6.085045264741563,
          8.892963109465898,
          -11.337854042148173,
          -11.968299519473522
         ],
         "z": [
          -3.1042109099510666,
          3.2150124812533862,
          -2.8701944037126514,
          -3.5165797739129694,
          -3.301371407312967,
          3.400701598075811,
          5.408185817538346,
          -1.9973600565924725,
          2.5832624205176673,
          -4.81485827600051,
          -1.477766851441359,
          -9.651175885387486,
          -5.2352008793859275,
          6.7385036268865965,
          -0.9904907406767185,
          0.4158795509279196,
          8.4919788721243,
          6.103892365694396,
          -5.344208604863354,
          -1.6855387985306027,
          1.1360520494756923,
          -8.227926580838018,
          6.322252635725937,
          9.817512434839397,
          7.265517680140704,
          3.8213557377671767,
          -4.2519469771873455,
          -4.451228696896445,
          7.174599874005769,
          -6.113511464969035,
          -0.37819523594956284,
          -2.3026337402267076,
          -1.6500097003560814,
          -0.980060200948838,
          1.991284118597493,
          4.519565098952581,
          4.265992200024693,
          5.166939161754366,
          2.6529241763424176,
          5.780325929991167,
          6.684877924552186,
          1.4924125452861707,
          -9.298319773137447,
          -8.558766813065933,
          0.37673640826007393,
          0.5888288984885888,
          4.16235478461668,
          -3.535068431478682,
          -7.153241854882181,
          3.229628668030913,
          -4.467441629851866,
          -8.079916944521191,
          -7.188299816427359,
          6.225052031033006,
          -4.5531153809305716,
          -8.422450702233668,
          -3.9373942905548907,
          -4.605509330648271,
          -6.095457789519346,
          -3.28104425094853,
          8.678389458779904,
          -9.046701854027951,
          -2.0155922635589887,
          -1.133371827480758,
          1.3772907057449286,
          3.0016929645956667,
          -3.871045513060321,
          7.80787286262921,
          -0.9528217325683332,
          6.776044277568887,
          -4.423262993460767,
          -5.762024057777656,
          4.5691415517301035,
          -0.04897500233614771,
          -6.379506994429477,
          -3.8948320693574194,
          4.7779321952898055,
          6.100565489920747,
          -6.349485053071942,
          9.788194221504561,
          1.2330437553477234,
          10.556550807676947,
          2.809175594586298,
          9.663907008931725,
          -7.625956162773322,
          -6.6931875130353164,
          4.306233732105665,
          4.202726343181084,
          -3.014536860415383,
          2.2686799617508218,
          -6.984865855365669,
          -7.6234381000755755,
          5.557813168238807,
          -5.0187300068378935,
          4.632631119881623,
          4.359221316465937,
          6.239665419946501,
          -2.7238073287887072,
          -0.4240381903834418,
          1.7607428186231964
         ]
        }
       ],
       "layout": {
        "margin": {
         "b": 0,
         "l": 0,
         "r": 0,
         "t": 0
        },
        "template": {
         "data": {
          "bar": [
           {
            "error_x": {
             "color": "#2a3f5f"
            },
            "error_y": {
             "color": "#2a3f5f"
            },
            "marker": {
             "line": {
              "color": "#E5ECF6",
              "width": 0.5
             },
             "pattern": {
              "fillmode": "overlay",
              "size": 10,
              "solidity": 0.2
             }
            },
            "type": "bar"
           }
          ],
          "barpolar": [
           {
            "marker": {
             "line": {
              "color": "#E5ECF6",
              "width": 0.5
             },
             "pattern": {
              "fillmode": "overlay",
              "size": 10,
              "solidity": 0.2
             }
            },
            "type": "barpolar"
           }
          ],
          "carpet": [
           {
            "aaxis": {
             "endlinecolor": "#2a3f5f",
             "gridcolor": "white",
             "linecolor": "white",
             "minorgridcolor": "white",
             "startlinecolor": "#2a3f5f"
            },
            "baxis": {
             "endlinecolor": "#2a3f5f",
             "gridcolor": "white",
             "linecolor": "white",
             "minorgridcolor": "white",
             "startlinecolor": "#2a3f5f"
            },
            "type": "carpet"
           }
          ],
          "choropleth": [
           {
            "colorbar": {
             "outlinewidth": 0,
             "ticks": ""
            },
            "type": "choropleth"
           }
          ],
          "contour": [
           {
            "colorbar": {
             "outlinewidth": 0,
             "ticks": ""
            },
            "colorscale": [
             [
              0,
              "#0d0887"
             ],
             [
              0.1111111111111111,
              "#46039f"
             ],
             [
              0.2222222222222222,
              "#7201a8"
             ],
             [
              0.3333333333333333,
              "#9c179e"
             ],
             [
              0.4444444444444444,
              "#bd3786"
             ],
             [
              0.5555555555555556,
              "#d8576b"
             ],
             [
              0.6666666666666666,
              "#ed7953"
             ],
             [
              0.7777777777777778,
              "#fb9f3a"
             ],
             [
              0.8888888888888888,
              "#fdca26"
             ],
             [
              1,
              "#f0f921"
             ]
            ],
            "type": "contour"
           }
          ],
          "contourcarpet": [
           {
            "colorbar": {
             "outlinewidth": 0,
             "ticks": ""
            },
            "type": "contourcarpet"
           }
          ],
          "heatmap": [
           {
            "colorbar": {
             "outlinewidth": 0,
             "ticks": ""
            },
            "colorscale": [
             [
              0,
              "#0d0887"
             ],
             [
              0.1111111111111111,
              "#46039f"
             ],
             [
              0.2222222222222222,
              "#7201a8"
             ],
             [
              0.3333333333333333,
              "#9c179e"
             ],
             [
              0.4444444444444444,
              "#bd3786"
             ],
             [
              0.5555555555555556,
              "#d8576b"
             ],
             [
              0.6666666666666666,
              "#ed7953"
             ],
             [
              0.7777777777777778,
              "#fb9f3a"
             ],
             [
              0.8888888888888888,
              "#fdca26"
             ],
             [
              1,
              "#f0f921"
             ]
            ],
            "type": "heatmap"
           }
          ],
          "heatmapgl": [
           {
            "colorbar": {
             "outlinewidth": 0,
             "ticks": ""
            },
            "colorscale": [
             [
              0,
              "#0d0887"
             ],
             [
              0.1111111111111111,
              "#46039f"
             ],
             [
              0.2222222222222222,
              "#7201a8"
             ],
             [
              0.3333333333333333,
              "#9c179e"
             ],
             [
              0.4444444444444444,
              "#bd3786"
             ],
             [
              0.5555555555555556,
              "#d8576b"
             ],
             [
              0.6666666666666666,
              "#ed7953"
             ],
             [
              0.7777777777777778,
              "#fb9f3a"
             ],
             [
              0.8888888888888888,
              "#fdca26"
             ],
             [
              1,
              "#f0f921"
             ]
            ],
            "type": "heatmapgl"
           }
          ],
          "histogram": [
           {
            "marker": {
             "pattern": {
              "fillmode": "overlay",
              "size": 10,
              "solidity": 0.2
             }
            },
            "type": "histogram"
           }
          ],
          "histogram2d": [
           {
            "colorbar": {
             "outlinewidth": 0,
             "ticks": ""
            },
            "colorscale": [
             [
              0,
              "#0d0887"
             ],
             [
              0.1111111111111111,
              "#46039f"
             ],
             [
              0.2222222222222222,
              "#7201a8"
             ],
             [
              0.3333333333333333,
              "#9c179e"
             ],
             [
              0.4444444444444444,
              "#bd3786"
             ],
             [
              0.5555555555555556,
              "#d8576b"
             ],
             [
              0.6666666666666666,
              "#ed7953"
             ],
             [
              0.7777777777777778,
              "#fb9f3a"
             ],
             [
              0.8888888888888888,
              "#fdca26"
             ],
             [
              1,
              "#f0f921"
             ]
            ],
            "type": "histogram2d"
           }
          ],
          "histogram2dcontour": [
           {
            "colorbar": {
             "outlinewidth": 0,
             "ticks": ""
            },
            "colorscale": [
             [
              0,
              "#0d0887"
             ],
             [
              0.1111111111111111,
              "#46039f"
             ],
             [
              0.2222222222222222,
              "#7201a8"
             ],
             [
              0.3333333333333333,
              "#9c179e"
             ],
             [
              0.4444444444444444,
              "#bd3786"
             ],
             [
              0.5555555555555556,
              "#d8576b"
             ],
             [
              0.6666666666666666,
              "#ed7953"
             ],
             [
              0.7777777777777778,
              "#fb9f3a"
             ],
             [
              0.8888888888888888,
              "#fdca26"
             ],
             [
              1,
              "#f0f921"
             ]
            ],
            "type": "histogram2dcontour"
           }
          ],
          "mesh3d": [
           {
            "colorbar": {
             "outlinewidth": 0,
             "ticks": ""
            },
            "type": "mesh3d"
           }
          ],
          "parcoords": [
           {
            "line": {
             "colorbar": {
              "outlinewidth": 0,
              "ticks": ""
             }
            },
            "type": "parcoords"
           }
          ],
          "pie": [
           {
            "automargin": true,
            "type": "pie"
           }
          ],
          "scatter": [
           {
            "fillpattern": {
             "fillmode": "overlay",
             "size": 10,
             "solidity": 0.2
            },
            "type": "scatter"
           }
          ],
          "scatter3d": [
           {
            "line": {
             "colorbar": {
              "outlinewidth": 0,
              "ticks": ""
             }
            },
            "marker": {
             "colorbar": {
              "outlinewidth": 0,
              "ticks": ""
             }
            },
            "type": "scatter3d"
           }
          ],
          "scattercarpet": [
           {
            "marker": {
             "colorbar": {
              "outlinewidth": 0,
              "ticks": ""
             }
            },
            "type": "scattercarpet"
           }
          ],
          "scattergeo": [
           {
            "marker": {
             "colorbar": {
              "outlinewidth": 0,
              "ticks": ""
             }
            },
            "type": "scattergeo"
           }
          ],
          "scattergl": [
           {
            "marker": {
             "colorbar": {
              "outlinewidth": 0,
              "ticks": ""
             }
            },
            "type": "scattergl"
           }
          ],
          "scattermapbox": [
           {
            "marker": {
             "colorbar": {
              "outlinewidth": 0,
              "ticks": ""
             }
            },
            "type": "scattermapbox"
           }
          ],
          "scatterpolar": [
           {
            "marker": {
             "colorbar": {
              "outlinewidth": 0,
              "ticks": ""
             }
            },
            "type": "scatterpolar"
           }
          ],
          "scatterpolargl": [
           {
            "marker": {
             "colorbar": {
              "outlinewidth": 0,
              "ticks": ""
             }
            },
            "type": "scatterpolargl"
           }
          ],
          "scatterternary": [
           {
            "marker": {
             "colorbar": {
              "outlinewidth": 0,
              "ticks": ""
             }
            },
            "type": "scatterternary"
           }
          ],
          "surface": [
           {
            "colorbar": {
             "outlinewidth": 0,
             "ticks": ""
            },
            "colorscale": [
             [
              0,
              "#0d0887"
             ],
             [
              0.1111111111111111,
              "#46039f"
             ],
             [
              0.2222222222222222,
              "#7201a8"
             ],
             [
              0.3333333333333333,
              "#9c179e"
             ],
             [
              0.4444444444444444,
              "#bd3786"
             ],
             [
              0.5555555555555556,
              "#d8576b"
             ],
             [
              0.6666666666666666,
              "#ed7953"
             ],
             [
              0.7777777777777778,
              "#fb9f3a"
             ],
             [
              0.8888888888888888,
              "#fdca26"
             ],
             [
              1,
              "#f0f921"
             ]
            ],
            "type": "surface"
           }
          ],
          "table": [
           {
            "cells": {
             "fill": {
              "color": "#EBF0F8"
             },
             "line": {
              "color": "white"
             }
            },
            "header": {
             "fill": {
              "color": "#C8D4E3"
             },
             "line": {
              "color": "white"
             }
            },
            "type": "table"
           }
          ]
         },
         "layout": {
          "annotationdefaults": {
           "arrowcolor": "#2a3f5f",
           "arrowhead": 0,
           "arrowwidth": 1
          },
          "autotypenumbers": "strict",
          "coloraxis": {
           "colorbar": {
            "outlinewidth": 0,
            "ticks": ""
           }
          },
          "colorscale": {
           "diverging": [
            [
             0,
             "#8e0152"
            ],
            [
             0.1,
             "#c51b7d"
            ],
            [
             0.2,
             "#de77ae"
            ],
            [
             0.3,
             "#f1b6da"
            ],
            [
             0.4,
             "#fde0ef"
            ],
            [
             0.5,
             "#f7f7f7"
            ],
            [
             0.6,
             "#e6f5d0"
            ],
            [
             0.7,
             "#b8e186"
            ],
            [
             0.8,
             "#7fbc41"
            ],
            [
             0.9,
             "#4d9221"
            ],
            [
             1,
             "#276419"
            ]
           ],
           "sequential": [
            [
             0,
             "#0d0887"
            ],
            [
             0.1111111111111111,
             "#46039f"
            ],
            [
             0.2222222222222222,
             "#7201a8"
            ],
            [
             0.3333333333333333,
             "#9c179e"
            ],
            [
             0.4444444444444444,
             "#bd3786"
            ],
            [
             0.5555555555555556,
             "#d8576b"
            ],
            [
             0.6666666666666666,
             "#ed7953"
            ],
            [
             0.7777777777777778,
             "#fb9f3a"
            ],
            [
             0.8888888888888888,
             "#fdca26"
            ],
            [
             1,
             "#f0f921"
            ]
           ],
           "sequentialminus": [
            [
             0,
             "#0d0887"
            ],
            [
             0.1111111111111111,
             "#46039f"
            ],
            [
             0.2222222222222222,
             "#7201a8"
            ],
            [
             0.3333333333333333,
             "#9c179e"
            ],
            [
             0.4444444444444444,
             "#bd3786"
            ],
            [
             0.5555555555555556,
             "#d8576b"
            ],
            [
             0.6666666666666666,
             "#ed7953"
            ],
            [
             0.7777777777777778,
             "#fb9f3a"
            ],
            [
             0.8888888888888888,
             "#fdca26"
            ],
            [
             1,
             "#f0f921"
            ]
           ]
          },
          "colorway": [
           "#636efa",
           "#EF553B",
           "#00cc96",
           "#ab63fa",
           "#FFA15A",
           "#19d3f3",
           "#FF6692",
           "#B6E880",
           "#FF97FF",
           "#FECB52"
          ],
          "font": {
           "color": "#2a3f5f"
          },
          "geo": {
           "bgcolor": "white",
           "lakecolor": "white",
           "landcolor": "#E5ECF6",
           "showlakes": true,
           "showland": true,
           "subunitcolor": "white"
          },
          "hoverlabel": {
           "align": "left"
          },
          "hovermode": "closest",
          "mapbox": {
           "style": "light"
          },
          "paper_bgcolor": "white",
          "plot_bgcolor": "#E5ECF6",
          "polar": {
           "angularaxis": {
            "gridcolor": "white",
            "linecolor": "white",
            "ticks": ""
           },
           "bgcolor": "#E5ECF6",
           "radialaxis": {
            "gridcolor": "white",
            "linecolor": "white",
            "ticks": ""
           }
          },
          "scene": {
           "xaxis": {
            "backgroundcolor": "#E5ECF6",
            "gridcolor": "white",
            "gridwidth": 2,
            "linecolor": "white",
            "showbackground": true,
            "ticks": "",
            "zerolinecolor": "white"
           },
           "yaxis": {
            "backgroundcolor": "#E5ECF6",
            "gridcolor": "white",
            "gridwidth": 2,
            "linecolor": "white",
            "showbackground": true,
            "ticks": "",
            "zerolinecolor": "white"
           },
           "zaxis": {
            "backgroundcolor": "#E5ECF6",
            "gridcolor": "white",
            "gridwidth": 2,
            "linecolor": "white",
            "showbackground": true,
            "ticks": "",
            "zerolinecolor": "white"
           }
          },
          "shapedefaults": {
           "line": {
            "color": "#2a3f5f"
           }
          },
          "ternary": {
           "aaxis": {
            "gridcolor": "white",
            "linecolor": "white",
            "ticks": ""
           },
           "baxis": {
            "gridcolor": "white",
            "linecolor": "white",
            "ticks": ""
           },
           "bgcolor": "#E5ECF6",
           "caxis": {
            "gridcolor": "white",
            "linecolor": "white",
            "ticks": ""
           }
          },
          "title": {
           "x": 0.05
          },
          "xaxis": {
           "automargin": true,
           "gridcolor": "white",
           "linecolor": "white",
           "ticks": "",
           "title": {
            "standoff": 15
           },
           "zerolinecolor": "white",
           "zerolinewidth": 2
          },
          "yaxis": {
           "automargin": true,
           "gridcolor": "white",
           "linecolor": "white",
           "ticks": "",
           "title": {
            "standoff": 15
           },
           "zerolinecolor": "white",
           "zerolinewidth": 2
          }
         }
        }
       }
      }
     },
     "metadata": {},
     "output_type": "display_data"
    }
   ],
   "source": [
    "import plotly.graph_objects as go\n",
    "\n",
    "# two vectors in R3\n",
    "v1 = np.array([3, 5, 1])\n",
    "v2 = np.array([0, 2, 2])\n",
    "\n",
    "# random scalars in the x-axis range\n",
    "scalars = np.random.uniform(low=xlim[0], high=xlim[1], size=(100,2))    # uniform: draw samples from a uniform distribution(균등분포)\n",
    "\n",
    "# create random points\n",
    "points = np.zeros((100,3))\n",
    "for i in range(len(scalars)):\n",
    "\n",
    "    # define this point as a random weighted combination of the two vectors\n",
    "    points[i,:] = v1*scalars[i,0] + v2*scalars[i,1]\n",
    "\n",
    "\n",
    "# draw the dots in the plane\n",
    "fig = go.Figure( data=[go.Scatter3d(x=points[:,0], y=points[:,1], z=points[:,2], \n",
    "                                    mode='markers', marker=dict(size=6, color='black'))])\n",
    "\n",
    "fig.update_layout(margin=dict(l=0,r=0,b=0,t=0))\n",
    "fig.show()"
   ]
  },
  {
   "cell_type": "code",
   "execution_count": 10,
   "metadata": {},
   "outputs": [
    {
     "data": {
      "application/vnd.plotly.v1+json": {
       "config": {
        "plotlyServerURL": "https://plot.ly"
       },
       "data": [
        {
         "marker": {
          "color": "black",
          "size": 6
         },
         "mode": "markers",
         "type": "scatter3d",
         "x": [
          5.900796768106479,
          -6.1518857803578015,
          -4.101233118071695,
          -7.341897077751096,
          5.577782682617396,
          -9.815153308534931,
          8.265428897585299,
          2.4340215606286675,
          0.4792732730884586,
          7.517021272658762,
          -5.349465887627334,
          -7.679728876495743,
          -5.6728211511733235,
          0.2602652513409951,
          3.8272301512446925,
          -12.194603862756068,
          1.9724649444989133,
          -1.4197339102396151,
          0.5189751428491318,
          -6.652135221420121,
          -8.635669262862205,
          -3.949538761760138,
          7.53536663886855,
          -4.753673198059434,
          -1.1398189958728424,
          -10.740144852354751,
          -4.291009810975494,
          -11.598437386438672,
          7.92156807374516,
          -11.413440341621758,
          -5.361241414803484,
          3.61763420401779,
          11.595354748180874,
          4.709970463783954,
          -10.980815135289287,
          9.935756561833145,
          -4.454569307715003,
          -6.1045864758556,
          -4.413216540896535,
          7.457591409048714,
          -11.276058338227188,
          -10.531394967022601,
          9.292954696473126,
          4.276537134172166,
          -4.699172730580155,
          -3.7881584664035963,
          16.138180481872226,
          4.171940960287525,
          -8.799892281505926,
          -5.196562126676211,
          5.817673161789116,
          8.380504735605305,
          -4.587426074807034,
          -8.447740060627098,
          -1.1630596289295392,
          -11.001174905892032,
          0.7006100113270834,
          -7.969136770347047,
          -3.4656902831622936,
          -13.215363879170372,
          15.41375972018973,
          13.607691079951564,
          1.0846559657534827,
          5.856836878236579,
          -8.795202197425573,
          -11.167957759327178,
          -3.563480708476388,
          7.832778221716939,
          -2.0582787758930445,
          10.241401858372804,
          -9.27786719725032,
          16.497949376160157,
          4.384267640233972,
          -3.5616803135378396,
          1.3979791028591961,
          -9.660918741376094,
          11.838919070905913,
          -7.416375750695956,
          5.511464188786137,
          -0.07591285087952082,
          4.399453138652531,
          8.520093232086072,
          3.974824067593889,
          5.946066568155916,
          0.4082101542328962,
          -6.081733290201491,
          10.880271911043112,
          -7.213256116885645,
          12.056530419912608,
          3.484041789550636,
          8.495029477247552,
          -3.993057230854223,
          10.725591887884054,
          -1.7110618505537167,
          -5.145127302248252,
          -14.901441212751692,
          -6.3070046079342275,
          -0.7581367589739303,
          3.8743057886436594,
          3.5709571187129985
         ],
         "y": [
          9.834661280177464,
          -10.253142967263003,
          -6.835388530119492,
          -12.23649512958516,
          9.296304471028993,
          -16.35858884755822,
          13.775714829308832,
          4.056702601047779,
          0.7987887884807643,
          12.528368787764602,
          -8.91577647937889,
          -12.799548127492905,
          -9.454701918622206,
          0.4337754189016585,
          6.378716918741153,
          -20.32433977126011,
          3.2874415741648555,
          -2.366223183732692,
          0.8649585714152197,
          -11.086892035700203,
          -14.39278210477034,
          -6.582564602933562,
          12.558944398114253,
          -7.922788663432389,
          -1.8996983264547374,
          -17.90024142059125,
          -7.1516830182924895,
          -19.330728977397786,
          13.20261345624193,
          -19.022400569369594,
          -8.935402358005806,
          6.029390340029651,
          19.325591246968123,
          7.849950772973255,
          -18.30135855881548,
          16.559594269721913,
          -7.424282179525006,
          -10.174310793092666,
          -7.355360901494226,
          12.429319015081191,
          -18.79343056371198,
          -17.552324945037668,
          15.48825782745521,
          7.127561890286945,
          -7.831954550966927,
          -6.313597444005993,
          26.896967469787043,
          6.9532349338125385,
          -14.666487135843212,
          -8.660936877793686,
          9.696121936315194,
          13.967507892675508,
          -7.64571012467839,
          -14.079566767711832,
          -1.9384327148825653,
          -18.335291509820053,
          1.1676833522118066,
          -13.281894617245078,
          -5.7761504719371555,
          -22.02560646528395,
          25.689599533649556,
          22.679485133252605,
          1.807759942922471,
          9.761394797060966,
          -14.65867032904262,
          -18.613262932211963,
          -5.939134514127312,
          13.054630369528233,
          -3.4304646264884076,
          17.069003097288004,
          -15.4631119954172,
          27.49658229360027,
          7.307112733723287,
          -5.936133855896399,
          2.3299651714319936,
          -16.10153123562682,
          19.731531784843188,
          -12.360626251159925,
          9.185773647976893,
          -0.1265214181325347,
          7.332421897754219,
          14.200155386810124,
          6.624706779323149,
          9.910110946926526,
          0.680350257054827,
          -10.136222150335815,
          18.133786518405188,
          -12.02209352814274,
          20.094217366521015,
          5.8067363159177265,
          14.158382462079254,
          -6.65509538475704,
          17.875986479806752,
          -2.8517697509228612,
          -8.575212170413753,
          -24.835735354586152,
          -10.511674346557047,
          -1.2635612649565502,
          6.457176314406098,
          5.9515951978549975
         ],
         "z": [
          1.9669322560354927,
          -2.0506285934526005,
          -1.3670777060238986,
          -2.4472990259170317,
          1.8592608942057987,
          -3.271717769511644,
          2.7551429658617663,
          0.8113405202095558,
          0.15975775769615286,
          2.5056737575529207,
          -1.783155295875778,
          -2.559909625498581,
          -1.8909403837244412,
          0.0867550837803317,
          1.2757433837482308,
          -4.064867954252023,
          0.6574883148329711,
          -0.4732446367465384,
          0.17299171428304394,
          -2.2173784071400404,
          -2.878556420954068,
          -1.3165129205867125,
          2.5117888796228502,
          -1.584557732686478,
          -0.37993966529094747,
          -3.58004828411825,
          -1.430336603658498,
          -3.8661457954795573,
          2.6405226912483863,
          -3.804480113873919,
          -1.7870804716011612,
          1.20587806800593,
          3.8651182493936247,
          1.569990154594651,
          -3.660271711763096,
          3.3119188539443822,
          -1.4848564359050012,
          -2.0348621586185334,
          -1.4710721802988451,
          2.485863803016238,
          -3.758686112742396,
          -3.510464989007534,
          3.097651565491042,
          1.4255123780573888,
          -1.5663909101933853,
          -1.2627194888011988,
          5.379393493957409,
          1.390646986762508,
          -2.9332974271686423,
          -1.7321873755587371,
          1.9392243872630388,
          2.7935015785351016,
          -1.5291420249356782,
          -2.815913353542366,
          -0.38768654297651306,
          -3.6670583019640106,
          0.23353667044236115,
          -2.6563789234490156,
          -1.1552300943874312,
          -4.405121293056791,
          5.137919906729911,
          4.535897026650521,
          0.3615519885844942,
          1.952278959412193,
          -2.931734065808524,
          -3.722652586442393,
          -1.1878269028254627,
          2.6109260739056466,
          -0.6860929252976815,
          3.413800619457601,
          -3.09262239908344,
          5.499316458720053,
          1.4614225467446573,
          -1.1872267711792799,
          0.4659930342863987,
          -3.220306247125364,
          3.9463063569686376,
          -2.472125250231985,
          1.8371547295953787,
          -0.02530428362650694,
          1.4664843795508435,
          2.8400310773620245,
          1.3249413558646297,
          1.9820221893853054,
          0.1360700514109654,
          -2.0272444300671633,
          3.626757303681037,
          -2.404418705628548,
          4.018843473304202,
          1.1613472631835453,
          2.8316764924158506,
          -1.3310190769514079,
          3.5751972959613507,
          -0.5703539501845722,
          -1.7150424340827506,
          -4.967147070917231,
          -2.1023348693114094,
          -0.25271225299130995,
          1.2914352628812198,
          1.1903190395709995
         ]
        }
       ],
       "layout": {
        "margin": {
         "b": 0,
         "l": 0,
         "r": 0,
         "t": 0
        },
        "template": {
         "data": {
          "bar": [
           {
            "error_x": {
             "color": "#2a3f5f"
            },
            "error_y": {
             "color": "#2a3f5f"
            },
            "marker": {
             "line": {
              "color": "#E5ECF6",
              "width": 0.5
             },
             "pattern": {
              "fillmode": "overlay",
              "size": 10,
              "solidity": 0.2
             }
            },
            "type": "bar"
           }
          ],
          "barpolar": [
           {
            "marker": {
             "line": {
              "color": "#E5ECF6",
              "width": 0.5
             },
             "pattern": {
              "fillmode": "overlay",
              "size": 10,
              "solidity": 0.2
             }
            },
            "type": "barpolar"
           }
          ],
          "carpet": [
           {
            "aaxis": {
             "endlinecolor": "#2a3f5f",
             "gridcolor": "white",
             "linecolor": "white",
             "minorgridcolor": "white",
             "startlinecolor": "#2a3f5f"
            },
            "baxis": {
             "endlinecolor": "#2a3f5f",
             "gridcolor": "white",
             "linecolor": "white",
             "minorgridcolor": "white",
             "startlinecolor": "#2a3f5f"
            },
            "type": "carpet"
           }
          ],
          "choropleth": [
           {
            "colorbar": {
             "outlinewidth": 0,
             "ticks": ""
            },
            "type": "choropleth"
           }
          ],
          "contour": [
           {
            "colorbar": {
             "outlinewidth": 0,
             "ticks": ""
            },
            "colorscale": [
             [
              0,
              "#0d0887"
             ],
             [
              0.1111111111111111,
              "#46039f"
             ],
             [
              0.2222222222222222,
              "#7201a8"
             ],
             [
              0.3333333333333333,
              "#9c179e"
             ],
             [
              0.4444444444444444,
              "#bd3786"
             ],
             [
              0.5555555555555556,
              "#d8576b"
             ],
             [
              0.6666666666666666,
              "#ed7953"
             ],
             [
              0.7777777777777778,
              "#fb9f3a"
             ],
             [
              0.8888888888888888,
              "#fdca26"
             ],
             [
              1,
              "#f0f921"
             ]
            ],
            "type": "contour"
           }
          ],
          "contourcarpet": [
           {
            "colorbar": {
             "outlinewidth": 0,
             "ticks": ""
            },
            "type": "contourcarpet"
           }
          ],
          "heatmap": [
           {
            "colorbar": {
             "outlinewidth": 0,
             "ticks": ""
            },
            "colorscale": [
             [
              0,
              "#0d0887"
             ],
             [
              0.1111111111111111,
              "#46039f"
             ],
             [
              0.2222222222222222,
              "#7201a8"
             ],
             [
              0.3333333333333333,
              "#9c179e"
             ],
             [
              0.4444444444444444,
              "#bd3786"
             ],
             [
              0.5555555555555556,
              "#d8576b"
             ],
             [
              0.6666666666666666,
              "#ed7953"
             ],
             [
              0.7777777777777778,
              "#fb9f3a"
             ],
             [
              0.8888888888888888,
              "#fdca26"
             ],
             [
              1,
              "#f0f921"
             ]
            ],
            "type": "heatmap"
           }
          ],
          "heatmapgl": [
           {
            "colorbar": {
             "outlinewidth": 0,
             "ticks": ""
            },
            "colorscale": [
             [
              0,
              "#0d0887"
             ],
             [
              0.1111111111111111,
              "#46039f"
             ],
             [
              0.2222222222222222,
              "#7201a8"
             ],
             [
              0.3333333333333333,
              "#9c179e"
             ],
             [
              0.4444444444444444,
              "#bd3786"
             ],
             [
              0.5555555555555556,
              "#d8576b"
             ],
             [
              0.6666666666666666,
              "#ed7953"
             ],
             [
              0.7777777777777778,
              "#fb9f3a"
             ],
             [
              0.8888888888888888,
              "#fdca26"
             ],
             [
              1,
              "#f0f921"
             ]
            ],
            "type": "heatmapgl"
           }
          ],
          "histogram": [
           {
            "marker": {
             "pattern": {
              "fillmode": "overlay",
              "size": 10,
              "solidity": 0.2
             }
            },
            "type": "histogram"
           }
          ],
          "histogram2d": [
           {
            "colorbar": {
             "outlinewidth": 0,
             "ticks": ""
            },
            "colorscale": [
             [
              0,
              "#0d0887"
             ],
             [
              0.1111111111111111,
              "#46039f"
             ],
             [
              0.2222222222222222,
              "#7201a8"
             ],
             [
              0.3333333333333333,
              "#9c179e"
             ],
             [
              0.4444444444444444,
              "#bd3786"
             ],
             [
              0.5555555555555556,
              "#d8576b"
             ],
             [
              0.6666666666666666,
              "#ed7953"
             ],
             [
              0.7777777777777778,
              "#fb9f3a"
             ],
             [
              0.8888888888888888,
              "#fdca26"
             ],
             [
              1,
              "#f0f921"
             ]
            ],
            "type": "histogram2d"
           }
          ],
          "histogram2dcontour": [
           {
            "colorbar": {
             "outlinewidth": 0,
             "ticks": ""
            },
            "colorscale": [
             [
              0,
              "#0d0887"
             ],
             [
              0.1111111111111111,
              "#46039f"
             ],
             [
              0.2222222222222222,
              "#7201a8"
             ],
             [
              0.3333333333333333,
              "#9c179e"
             ],
             [
              0.4444444444444444,
              "#bd3786"
             ],
             [
              0.5555555555555556,
              "#d8576b"
             ],
             [
              0.6666666666666666,
              "#ed7953"
             ],
             [
              0.7777777777777778,
              "#fb9f3a"
             ],
             [
              0.8888888888888888,
              "#fdca26"
             ],
             [
              1,
              "#f0f921"
             ]
            ],
            "type": "histogram2dcontour"
           }
          ],
          "mesh3d": [
           {
            "colorbar": {
             "outlinewidth": 0,
             "ticks": ""
            },
            "type": "mesh3d"
           }
          ],
          "parcoords": [
           {
            "line": {
             "colorbar": {
              "outlinewidth": 0,
              "ticks": ""
             }
            },
            "type": "parcoords"
           }
          ],
          "pie": [
           {
            "automargin": true,
            "type": "pie"
           }
          ],
          "scatter": [
           {
            "fillpattern": {
             "fillmode": "overlay",
             "size": 10,
             "solidity": 0.2
            },
            "type": "scatter"
           }
          ],
          "scatter3d": [
           {
            "line": {
             "colorbar": {
              "outlinewidth": 0,
              "ticks": ""
             }
            },
            "marker": {
             "colorbar": {
              "outlinewidth": 0,
              "ticks": ""
             }
            },
            "type": "scatter3d"
           }
          ],
          "scattercarpet": [
           {
            "marker": {
             "colorbar": {
              "outlinewidth": 0,
              "ticks": ""
             }
            },
            "type": "scattercarpet"
           }
          ],
          "scattergeo": [
           {
            "marker": {
             "colorbar": {
              "outlinewidth": 0,
              "ticks": ""
             }
            },
            "type": "scattergeo"
           }
          ],
          "scattergl": [
           {
            "marker": {
             "colorbar": {
              "outlinewidth": 0,
              "ticks": ""
             }
            },
            "type": "scattergl"
           }
          ],
          "scattermapbox": [
           {
            "marker": {
             "colorbar": {
              "outlinewidth": 0,
              "ticks": ""
             }
            },
            "type": "scattermapbox"
           }
          ],
          "scatterpolar": [
           {
            "marker": {
             "colorbar": {
              "outlinewidth": 0,
              "ticks": ""
             }
            },
            "type": "scatterpolar"
           }
          ],
          "scatterpolargl": [
           {
            "marker": {
             "colorbar": {
              "outlinewidth": 0,
              "ticks": ""
             }
            },
            "type": "scatterpolargl"
           }
          ],
          "scatterternary": [
           {
            "marker": {
             "colorbar": {
              "outlinewidth": 0,
              "ticks": ""
             }
            },
            "type": "scatterternary"
           }
          ],
          "surface": [
           {
            "colorbar": {
             "outlinewidth": 0,
             "ticks": ""
            },
            "colorscale": [
             [
              0,
              "#0d0887"
             ],
             [
              0.1111111111111111,
              "#46039f"
             ],
             [
              0.2222222222222222,
              "#7201a8"
             ],
             [
              0.3333333333333333,
              "#9c179e"
             ],
             [
              0.4444444444444444,
              "#bd3786"
             ],
             [
              0.5555555555555556,
              "#d8576b"
             ],
             [
              0.6666666666666666,
              "#ed7953"
             ],
             [
              0.7777777777777778,
              "#fb9f3a"
             ],
             [
              0.8888888888888888,
              "#fdca26"
             ],
             [
              1,
              "#f0f921"
             ]
            ],
            "type": "surface"
           }
          ],
          "table": [
           {
            "cells": {
             "fill": {
              "color": "#EBF0F8"
             },
             "line": {
              "color": "white"
             }
            },
            "header": {
             "fill": {
              "color": "#C8D4E3"
             },
             "line": {
              "color": "white"
             }
            },
            "type": "table"
           }
          ]
         },
         "layout": {
          "annotationdefaults": {
           "arrowcolor": "#2a3f5f",
           "arrowhead": 0,
           "arrowwidth": 1
          },
          "autotypenumbers": "strict",
          "coloraxis": {
           "colorbar": {
            "outlinewidth": 0,
            "ticks": ""
           }
          },
          "colorscale": {
           "diverging": [
            [
             0,
             "#8e0152"
            ],
            [
             0.1,
             "#c51b7d"
            ],
            [
             0.2,
             "#de77ae"
            ],
            [
             0.3,
             "#f1b6da"
            ],
            [
             0.4,
             "#fde0ef"
            ],
            [
             0.5,
             "#f7f7f7"
            ],
            [
             0.6,
             "#e6f5d0"
            ],
            [
             0.7,
             "#b8e186"
            ],
            [
             0.8,
             "#7fbc41"
            ],
            [
             0.9,
             "#4d9221"
            ],
            [
             1,
             "#276419"
            ]
           ],
           "sequential": [
            [
             0,
             "#0d0887"
            ],
            [
             0.1111111111111111,
             "#46039f"
            ],
            [
             0.2222222222222222,
             "#7201a8"
            ],
            [
             0.3333333333333333,
             "#9c179e"
            ],
            [
             0.4444444444444444,
             "#bd3786"
            ],
            [
             0.5555555555555556,
             "#d8576b"
            ],
            [
             0.6666666666666666,
             "#ed7953"
            ],
            [
             0.7777777777777778,
             "#fb9f3a"
            ],
            [
             0.8888888888888888,
             "#fdca26"
            ],
            [
             1,
             "#f0f921"
            ]
           ],
           "sequentialminus": [
            [
             0,
             "#0d0887"
            ],
            [
             0.1111111111111111,
             "#46039f"
            ],
            [
             0.2222222222222222,
             "#7201a8"
            ],
            [
             0.3333333333333333,
             "#9c179e"
            ],
            [
             0.4444444444444444,
             "#bd3786"
            ],
            [
             0.5555555555555556,
             "#d8576b"
            ],
            [
             0.6666666666666666,
             "#ed7953"
            ],
            [
             0.7777777777777778,
             "#fb9f3a"
            ],
            [
             0.8888888888888888,
             "#fdca26"
            ],
            [
             1,
             "#f0f921"
            ]
           ]
          },
          "colorway": [
           "#636efa",
           "#EF553B",
           "#00cc96",
           "#ab63fa",
           "#FFA15A",
           "#19d3f3",
           "#FF6692",
           "#B6E880",
           "#FF97FF",
           "#FECB52"
          ],
          "font": {
           "color": "#2a3f5f"
          },
          "geo": {
           "bgcolor": "white",
           "lakecolor": "white",
           "landcolor": "#E5ECF6",
           "showlakes": true,
           "showland": true,
           "subunitcolor": "white"
          },
          "hoverlabel": {
           "align": "left"
          },
          "hovermode": "closest",
          "mapbox": {
           "style": "light"
          },
          "paper_bgcolor": "white",
          "plot_bgcolor": "#E5ECF6",
          "polar": {
           "angularaxis": {
            "gridcolor": "white",
            "linecolor": "white",
            "ticks": ""
           },
           "bgcolor": "#E5ECF6",
           "radialaxis": {
            "gridcolor": "white",
            "linecolor": "white",
            "ticks": ""
           }
          },
          "scene": {
           "xaxis": {
            "backgroundcolor": "#E5ECF6",
            "gridcolor": "white",
            "gridwidth": 2,
            "linecolor": "white",
            "showbackground": true,
            "ticks": "",
            "zerolinecolor": "white"
           },
           "yaxis": {
            "backgroundcolor": "#E5ECF6",
            "gridcolor": "white",
            "gridwidth": 2,
            "linecolor": "white",
            "showbackground": true,
            "ticks": "",
            "zerolinecolor": "white"
           },
           "zaxis": {
            "backgroundcolor": "#E5ECF6",
            "gridcolor": "white",
            "gridwidth": 2,
            "linecolor": "white",
            "showbackground": true,
            "ticks": "",
            "zerolinecolor": "white"
           }
          },
          "shapedefaults": {
           "line": {
            "color": "#2a3f5f"
           }
          },
          "ternary": {
           "aaxis": {
            "gridcolor": "white",
            "linecolor": "white",
            "ticks": ""
           },
           "baxis": {
            "gridcolor": "white",
            "linecolor": "white",
            "ticks": ""
           },
           "bgcolor": "#E5ECF6",
           "caxis": {
            "gridcolor": "white",
            "linecolor": "white",
            "ticks": ""
           }
          },
          "title": {
           "x": 0.05
          },
          "xaxis": {
           "automargin": true,
           "gridcolor": "white",
           "linecolor": "white",
           "ticks": "",
           "title": {
            "standoff": 15
           },
           "zerolinecolor": "white",
           "zerolinewidth": 2
          },
          "yaxis": {
           "automargin": true,
           "gridcolor": "white",
           "linecolor": "white",
           "ticks": "",
           "title": {
            "standoff": 15
           },
           "zerolinecolor": "white",
           "zerolinewidth": 2
          }
         }
        }
       }
      }
     },
     "metadata": {},
     "output_type": "display_data"
    }
   ],
   "source": [
    "## uncomment the lines below for the second part\n",
    "v1 = np.array([ 3.0,5.0,1.0 ])\n",
    "v2 = np.array([ 1.5,2.5,0.5 ])\n",
    "\n",
    "# random scalars in the x-axis range\n",
    "scalars = np.random.uniform(low=xlim[0], high=xlim[1], size=(100,2))    # uniform: draw samples from a uniform distribution(균등분포)\n",
    "\n",
    "# create random points\n",
    "points = np.zeros((100,3))\n",
    "for i in range(len(scalars)):\n",
    "\n",
    "    # define this point as a random weighted combination of the two vectors\n",
    "    points[i,:] = v1*scalars[i,0] + v2*scalars[i,1]\n",
    "\n",
    "\n",
    "# draw the dots in the plane\n",
    "fig = go.Figure( data=[go.Scatter3d(x=points[:,0], y=points[:,1], z=points[:,2], \n",
    "                                    mode='markers', marker=dict(size=6, color='black'))])\n",
    "\n",
    "fig.update_layout(margin=dict(l=0,r=0,b=0,t=0))\n",
    "fig.show()"
   ]
  }
 ],
 "metadata": {
  "kernelspec": {
   "display_name": "base",
   "language": "python",
   "name": "python3"
  },
  "language_info": {
   "codemirror_mode": {
    "name": "ipython",
    "version": 3
   },
   "file_extension": ".py",
   "mimetype": "text/x-python",
   "name": "python",
   "nbconvert_exporter": "python",
   "pygments_lexer": "ipython3",
   "version": "3.7.1"
  }
 },
 "nbformat": 4,
 "nbformat_minor": 2
}
