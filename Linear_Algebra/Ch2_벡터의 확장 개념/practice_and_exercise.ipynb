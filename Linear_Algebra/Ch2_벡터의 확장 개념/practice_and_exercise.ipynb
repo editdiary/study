{
 "cells": [
  {
   "cell_type": "code",
   "execution_count": 2,
   "metadata": {},
   "outputs": [],
   "source": [
    "import numpy as np\n",
    "import matplotlib.pyplot as plt\n",
    "import pandas as pd"
   ]
  },
  {
   "cell_type": "markdown",
   "metadata": {},
   "source": [
    "# Linear weighted combinations"
   ]
  },
  {
   "cell_type": "code",
   "execution_count": 3,
   "metadata": {},
   "outputs": [
    {
     "data": {
      "text/plain": [
       "array([ -7,  -4, -13])"
      ]
     },
     "execution_count": 3,
     "metadata": {},
     "output_type": "execute_result"
    }
   ],
   "source": [
    "l1 = 1\n",
    "l2 = 2\n",
    "l3 = -3\n",
    "\n",
    "v1 = np.array([4, 5, 1])\n",
    "v2 = np.array([-4, 0, -4])\n",
    "v3 = np.array([1, 3, 2])\n",
    "\n",
    "l1*v1 + l2*v2 + l3*v3"
   ]
  },
  {
   "cell_type": "code",
   "execution_count": null,
   "metadata": {},
   "outputs": [],
   "source": []
  },
  {
   "cell_type": "markdown",
   "metadata": {},
   "source": [
    "# Exercises"
   ]
  },
  {
   "cell_type": "markdown",
   "metadata": {},
   "source": [
    "## Exercise 1"
   ]
  },
  {
   "cell_type": "code",
   "execution_count": 4,
   "metadata": {},
   "outputs": [
    {
     "data": {
      "text/plain": [
       "array([ -7.,  -4., -13.])"
      ]
     },
     "execution_count": 4,
     "metadata": {},
     "output_type": "execute_result"
    }
   ],
   "source": [
    "# organized into lists\n",
    "scalars = [l1, l2, l3]    # l1 = 1, l2 = 2, l3 = -3\n",
    "vectors = [v1, v2, v3]    # v1 = [4, 5, 1], v2 = [-4, 0, -4], v3 = [1, 3, 2]\n",
    "\n",
    "# initialize the linear combination\n",
    "linCombo = np.zeros(len(v1))\n",
    "\n",
    "# impplement linear weighted combination using zip()\n",
    "for s, v in zip(scalars, vectors):\n",
    "    linCombo += s*v\n",
    "\n",
    "# confirm it's the same answer as above\n",
    "linCombo"
   ]
  },
  {
   "cell_type": "markdown",
   "metadata": {},
   "source": [
    "## Exercise 2"
   ]
  },
  {
   "cell_type": "code",
   "execution_count": 5,
   "metadata": {},
   "outputs": [
    {
     "ename": "IndexError",
     "evalue": "list index out of range",
     "output_type": "error",
     "traceback": [
      "\u001b[1;31m---------------------------------------------------------------------------\u001b[0m",
      "\u001b[1;31mIndexError\u001b[0m                                Traceback (most recent call last)",
      "\u001b[1;32m<ipython-input-5-a06b325376b3>\u001b[0m in \u001b[0;36m<module>\u001b[1;34m\u001b[0m\n\u001b[0;32m     10\u001b[0m \u001b[1;33m\u001b[0m\u001b[0m\n\u001b[0;32m     11\u001b[0m \u001b[1;32mfor\u001b[0m \u001b[0mi\u001b[0m \u001b[1;32min\u001b[0m \u001b[0mrange\u001b[0m\u001b[1;33m(\u001b[0m\u001b[0mlen\u001b[0m\u001b[1;33m(\u001b[0m\u001b[0mscalars\u001b[0m\u001b[1;33m)\u001b[0m\u001b[1;33m)\u001b[0m\u001b[1;33m:\u001b[0m\u001b[1;33m\u001b[0m\u001b[1;33m\u001b[0m\u001b[0m\n\u001b[1;32m---> 12\u001b[1;33m     \u001b[0mlinCombo\u001b[0m \u001b[1;33m+=\u001b[0m \u001b[0mscalars\u001b[0m\u001b[1;33m[\u001b[0m\u001b[0mi\u001b[0m\u001b[1;33m]\u001b[0m \u001b[1;33m*\u001b[0m \u001b[0mvectors\u001b[0m\u001b[1;33m[\u001b[0m\u001b[0mi\u001b[0m\u001b[1;33m]\u001b[0m\u001b[1;33m\u001b[0m\u001b[1;33m\u001b[0m\u001b[0m\n\u001b[0m",
      "\u001b[1;31mIndexError\u001b[0m: list index out of range"
     ]
    }
   ],
   "source": [
    "# Whether it works or throws an error depends on how you set up the code.\n",
    "# Using zip() as above works, because zip() will use only the minimum-matching items.\n",
    "# Re-writing the code using indexing will cause an error, as in the code below.\n",
    "\n",
    "# make the scalars longer\n",
    "scalars = [l1, l2, l3, 5]\n",
    "vectors = [v1, v2, v3]\n",
    "\n",
    "linCombo = np.zeros(len(v1))\n",
    "\n",
    "for i in range(len(scalars)):\n",
    "    linCombo += scalars[i] * vectors[i]"
   ]
  },
  {
   "cell_type": "markdown",
   "metadata": {},
   "source": [
    "## Exercise 3"
   ]
  },
  {
   "cell_type": "code",
   "execution_count": 6,
   "metadata": {},
   "outputs": [
    {
     "data": {
      "image/png": "[encoded data removed]",
      "text/plain": [
       "<Figure size 432x432 with 1 Axes>"
      ]
     },
     "metadata": {
      "needs_background": "light"
     },
     "output_type": "display_data"
    }
   ],
   "source": [
    "# the vector set (just one vector)\n",
    "A = np.array([1, 3])\n",
    "\n",
    "# x-axis range\n",
    "xlim = [-4, 4]\n",
    "\n",
    "# random scalars in that range\n",
    "scalars = np.random.uniform(low=xlim[0], high=xlim[1], size=100)\n",
    "\n",
    "\n",
    "# cleate a figure, etc\n",
    "plt.figure(figsize=(6, 6))\n",
    "\n",
    "# loop over the random scalars\n",
    "for s in scalars:\n",
    "    \n",
    "    #create point p\n",
    "    p = A*s\n",
    "\n",
    "    # plot it\n",
    "    plt.plot(p[0], p[1], 'ko')\n",
    "\n",
    "plt.xlim(xlim)\n",
    "plt.ylim(xlim)\n",
    "plt.grid()\n",
    "plt.text(-4.5, 4.5, '(A)', fontweight='bold', fontsize=18)\n",
    "plt.show()"
   ]
  },
  {
   "cell_type": "code",
   "execution_count": 7,
   "metadata": {},
   "outputs": [
    {
     "data": {
      "application/vnd.plotly.v1+json": {
       "config": {
        "plotlyServerURL": "https://plot.ly"
       },
       "data": [
        {
         "marker": {
          "color": "black",
          "size": 6
         },
         "mode": "markers",
         "type": "scatter3d",
         "x": [
          4.660422727529987,
          -1.0807255096408825,
          1.9987901100644239,
          10.468426380868754,
          -7.955644249002892,
          -1.4943166866968562,
          3.4720979570517327,
          7.8678589083045445,
          -7.995027419955504,
          -9.171538853373438,
          -11.866731113024333,
          -6.68391513413512,
          -7.13173714055629,
          -1.4617027262344884,
          -4.271128684642784,
          9.407698702306744,
          -5.711398530903493,
          11.629522372596462,
          7.6055919223475374,
          -8.466300108186092,
          10.760845254520738,
          2.2868474463387924,
          5.065969346243061,
          1.3839300404878374,
          4.66861372429609,
          -2.83224216808729,
          -8.327145535838202,
          -11.358216980006912,
          11.219266977476561,
          -11.753725074209061,
          8.800952790737822,
          -2.35285227007932,
          10.135676637666165,
          2.566024417758002,
          -4.326407399107948,
          10.160479302979201,
          -6.4677548330005505,
          -7.261046332884322,
          5.767674991374746,
          6.557939568873438,
          -10.04400449881718,
          -3.6483783909393983,
          -6.111185626137773,
          -1.4483307961371867,
          5.2252991942372375,
          0.5133234704102954,
          -4.647943716176265,
          -9.636114026318047,
          3.9135078831037458,
          -3.585976393676594,
          -7.47091388128888,
          10.03073112126214,
          -2.584274120837992,
          -7.165587658607721,
          -0.3270357256682983,
          7.699855069342953,
          -5.059944073834256,
          -8.652486432836268,
          3.3708268864986373,
          5.3787344939837345,
          10.755466593443753,
          -0.72863687363306,
          -3.660938942644994,
          1.5356207059023967,
          1.5414107093771658,
          11.553837029273453,
          -2.010549863889767,
          7.414236669974931,
          6.8691962022377915,
          11.223842293875578,
          6.602314994985184,
          -4.843731168285185,
          -3.380479240519832,
          -9.931480237563214,
          -3.486142396220604,
          0.0026849494725054157,
          9.54267259761505,
          -3.612714180542123,
          -10.726287685314812,
          5.5554938393177,
          11.21955876486846,
          -5.396526039967316,
          10.667391424645555,
          -6.4488539479374705,
          10.24847720311491,
          -5.422776590039845,
          3.262044015486363,
          8.704238040879279,
          -8.897043450905386,
          -11.800572131328623,
          -5.063780033558183,
          11.0009350005203,
          -3.6585556331408995,
          -10.494110324412443,
          10.821969794163824,
          4.015620945983574,
          -10.29846793333435,
          -6.165798735639484,
          7.534715579746587,
          3.6816699626858975
         ],
         "y": [
          4.718798745697072,
          -1.7214926050693249,
          7.817962118449974,
          21.54229323164423,
          -16.99650357882979,
          0.9499680048619839,
          13.23037318407037,
          15.977305932715803,
          -14.704896422837603,
          -9.531229026330601,
          -13.809694174114627,
          -10.930956664353628,
          -16.13393085901494,
          -3.2055031304699284,
          -3.1024949957653636,
          21.144267909140986,
          -8.87501587800709,
          15.578510921527357,
          10.141876254805393,
          -21.501085746680772,
          15.905259873179457,
          1.1741808722745377,
          12.059417271814544,
          4.388874916289812,
          11.714370253430785,
          -2.5016477498995586,
          -9.842250364326897,
          -19.204486374443544,
          13.3613187272095,
          -27.541732562177952,
          15.160047321287653,
          -3.834100107276302,
          22.48745040831959,
          7.671192650273954,
          -0.6109566138956612,
          21.771755800402786,
          -17.68853427359158,
          -4.408301024426468,
          11.859835204658564,
          3.905200317825212,
          -17.77381536692373,
          -6.528549630679552,
          -17.05863550257429,
          -9.077781823235537,
          6.234518703024788,
          5.666096184137171,
          -8.524817624119201,
          -11.802691247470332,
          14.43787551871592,
          1.146628878910132,
          -11.295406389535996,
          17.77928453317689,
          -3.9945644993568648,
          -15.452122073851903,
          0.302287110548467,
          17.536992802145,
          -8.147046912108854,
          -17.7495889725289,
          8.509805957309652,
          6.836972756906016,
          12.85423666721718,
          1.2535295096119183,
          -1.9402534369138094,
          -5.321794634653286,
          8.0464146254327,
          14.08542177031616,
          -6.2660644484527355,
          8.595266792222949,
          6.801698629420692,
          17.563936291541722,
          13.936654185786109,
          -2.5490801930651674,
          -4.710085986976831,
          -17.5159664253581,
          -6.105898167280392,
          -5.487914336373023,
          19.27990105615086,
          -9.661276848237947,
          -18.844382626770074,
          2.4317953708047497,
          19.97244858155764,
          -4.708281527647882,
          18.856929741839473,
          -17.293830529775605,
          24.60008401745864,
          -9.895975234687775,
          6.120310463273447,
          17.410797844241515,
          -8.468850588326973,
          -26.39429347472236,
          -8.28533384567656,
          24.725657890485678,
          -3.1568684525597757,
          -15.755519477120462,
          19.441351862166933,
          3.150875991601618,
          -20.321324442541346,
          -12.327795059364364,
          15.553530114260015,
          3.3415194030986344
         ],
         "z": [
          -1.495098224342911,
          -0.2805252588814815,
          5.152908638364075,
          7.584391390485891,
          -6.388977913492597,
          2.9423902537911255,
          8.600909241334726,
          5.486827388309743,
          -4.0448598628969314,
          2.697489444833982,
          2.0126139765844853,
          -2.0190698188401353,
          -6.624948004939882,
          -1.2565661621572772,
          2.5923432504250155,
          8.600669639398662,
          -1.2598178368024335,
          0.07248109139874348,
          0.001087025008676079,
          -10.212685602432652,
          1.5574662004851367,
          -1.8749490561771855,
          5.304791476823797,
          2.543634862306029,
          5.489551954369331,
          1.2746751408834944,
          1.2606103501240407,
          -4.0601970677676595,
          -1.5977039094259124,
          -11.870099129899202,
          3.4254436003038897,
          -0.6969637471705417,
          8.973214891431368,
          4.2498267599299515,
          5.157586584914936,
          8.224450063097184,
          -9.064861162924181,
          5.273094086085961,
          4.16960188282557,
          -4.838719107339372,
          -4.381809368500826,
          -1.664045109427021,
          -8.910388001057257,
          -7.146674095052621,
          -0.7325468892915286,
          4.981664890256777,
          -2.3275593358841817,
          1.0454607876204003,
          9.219865007910926,
          5.927930737145591,
          -1.3341878811508234,
          4.4049763714940395,
          -0.5488656715728757,
          -5.898005195708275,
          0.7383347447728648,
          7.270519376354398,
          -1.4004548136631794,
          -6.212940395413877,
          4.015370108644802,
          -0.3346732350722954,
          -1.4863854573744932,
          2.225045341122665,
          2.940998486612849,
          -7.369288909189815,
          5.991200346263145,
          -1.3196942687151108,
          -3.585331296599713,
          -1.2903821010769594,
          -2.357229640229697,
          2.598813233040956,
          5.133567525805864,
          3.909228031315079,
          -0.20278033295038878,
          -4.273992775273812,
          -1.45770830565292,
          -5.49149426900303,
          6.556337592664125,
          -4.844324607515117,
          -4.542665713016991,
          -4.975529748285517,
          5.01303689506636,
          2.487086525641873,
          4.633741175645404,
          -8.695358599192312,
          10.935447746638761,
          -2.6656064479679813,
          1.7709184426249633,
          5.805147123069143,
          3.3938740128802065,
          -10.660197299617526,
          -1.5336271342656485,
          10.057744556458612,
          1.7212057249614237,
          -1.7633723779038695,
          5.0120588032818345,
          -2.2032852697098146,
          -6.590033864762212,
          -4.106730078511719,
          5.507242674597899,
          -1.5673738804825623
         ]
        }
       ],
       "layout": {
        "margin": {
         "b": 0,
         "l": 0,
         "r": 0,
         "t": 0
        },
        "template": {
         "data": {
          "bar": [
           {
            "error_x": {
             "color": "#2a3f5f"
            },
            "error_y": {
             "color": "#2a3f5f"
            },
            "marker": {
             "line": {
              "color": "#E5ECF6",
              "width": 0.5
             },
             "pattern": {
              "fillmode": "overlay",
              "size": 10,
              "solidity": 0.2
             }
            },
            "type": "bar"
           }
          ],
          "barpolar": [
           {
            "marker": {
             "line": {
              "color": "#E5ECF6",
              "width": 0.5
             },
             "pattern": {
              "fillmode": "overlay",
              "size": 10,
              "solidity": 0.2
             }
            },
            "type": "barpolar"
           }
          ],
          "carpet": [
           {
            "aaxis": {
             "endlinecolor": "#2a3f5f",
             "gridcolor": "white",
             "linecolor": "white",
             "minorgridcolor": "white",
             "startlinecolor": "#2a3f5f"
            },
            "baxis": {
             "endlinecolor": "#2a3f5f",
             "gridcolor": "white",
             "linecolor": "white",
             "minorgridcolor": "white",
             "startlinecolor": "#2a3f5f"
            },
            "type": "carpet"
           }
          ],
          "choropleth": [
           {
            "colorbar": {
             "outlinewidth": 0,
             "ticks": ""
            },
            "type": "choropleth"
           }
          ],
          "contour": [
           {
            "colorbar": {
             "outlinewidth": 0,
             "ticks": ""
            },
            "colorscale": [
             [
              0,
              "#0d0887"
             ],
             [
              0.1111111111111111,
              "#46039f"
             ],
             [
              0.2222222222222222,
              "#7201a8"
             ],
             [
              0.3333333333333333,
              "#9c179e"
             ],
             [
              0.4444444444444444,
              "#bd3786"
             ],
             [
              0.5555555555555556,
              "#d8576b"
             ],
             [
              0.6666666666666666,
              "#ed7953"
             ],
             [
              0.7777777777777778,
              "#fb9f3a"
             ],
             [
              0.8888888888888888,
              "#fdca26"
             ],
             [
              1,
              "#f0f921"
             ]
            ],
            "type": "contour"
           }
          ],
          "contourcarpet": [
           {
            "colorbar": {
             "outlinewidth": 0,
             "ticks": ""
            },
            "type": "contourcarpet"
           }
          ],
          "heatmap": [
           {
            "colorbar": {
             "outlinewidth": 0,
             "ticks": ""
            },
            "colorscale": [
             [
              0,
              "#0d0887"
             ],
             [
              0.1111111111111111,
              "#46039f"
             ],
             [
              0.2222222222222222,
              "#7201a8"
             ],
             [
              0.3333333333333333,
              "#9c179e"
             ],
             [
              0.4444444444444444,
              "#bd3786"
             ],
             [
              0.5555555555555556,
              "#d8576b"
             ],
             [
              0.6666666666666666,
              "#ed7953"
             ],
             [
              0.7777777777777778,
              "#fb9f3a"
             ],
             [
              0.8888888888888888,
              "#fdca26"
             ],
             [
              1,
              "#f0f921"
             ]
            ],
            "type": "heatmap"
           }
          ],
          "heatmapgl": [
           {
            "colorbar": {
             "outlinewidth": 0,
             "ticks": ""
            },
            "colorscale": [
             [
              0,
              "#0d0887"
             ],
             [
              0.1111111111111111,
              "#46039f"
             ],
             [
              0.2222222222222222,
              "#7201a8"
             ],
             [
              0.3333333333333333,
              "#9c179e"
             ],
             [
              0.4444444444444444,
              "#bd3786"
             ],
             [
              0.5555555555555556,
              "#d8576b"
             ],
             [
              0.6666666666666666,
              "#ed7953"
             ],
             [
              0.7777777777777778,
              "#fb9f3a"
             ],
             [
              0.8888888888888888,
              "#fdca26"
             ],
             [
              1,
              "#f0f921"
             ]
            ],
            "type": "heatmapgl"
           }
          ],
          "histogram": [
           {
            "marker": {
             "pattern": {
              "fillmode": "overlay",
              "size": 10,
              "solidity": 0.2
             }
            },
            "type": "histogram"
           }
          ],
          "histogram2d": [
           {
            "colorbar": {
             "outlinewidth": 0,
             "ticks": ""
            },
            "colorscale": [
             [
              0,
              "#0d0887"
             ],
             [
              0.1111111111111111,
              "#46039f"
             ],
             [
              0.2222222222222222,
              "#7201a8"
             ],
             [
              0.3333333333333333,
              "#9c179e"
             ],
             [
              0.4444444444444444,
              "#bd3786"
             ],
             [
              0.5555555555555556,
              "#d8576b"
             ],
             [
              0.6666666666666666,
              "#ed7953"
             ],
             [
              0.7777777777777778,
              "#fb9f3a"
             ],
             [
              0.8888888888888888,
              "#fdca26"
             ],
             [
              1,
              "#f0f921"
             ]
            ],
            "type": "histogram2d"
           }
          ],
          "histogram2dcontour": [
           {
            "colorbar": {
             "outlinewidth": 0,
             "ticks": ""
            },
            "colorscale": [
             [
              0,
              "#0d0887"
             ],
             [
              0.1111111111111111,
              "#46039f"
             ],
             [
              0.2222222222222222,
              "#7201a8"
             ],
             [
              0.3333333333333333,
              "#9c179e"
             ],
             [
              0.4444444444444444,
              "#bd3786"
             ],
             [
              0.5555555555555556,
              "#d8576b"
             ],
             [
              0.6666666666666666,
              "#ed7953"
             ],
             [
              0.7777777777777778,
              "#fb9f3a"
             ],
             [
              0.8888888888888888,
              "#fdca26"
             ],
             [
              1,
              "#f0f921"
             ]
            ],
            "type": "histogram2dcontour"
           }
          ],
          "mesh3d": [
           {
            "colorbar": {
             "outlinewidth": 0,
             "ticks": ""
            },
            "type": "mesh3d"
           }
          ],
          "parcoords": [
           {
            "line": {
             "colorbar": {
              "outlinewidth": 0,
              "ticks": ""
             }
            },
            "type": "parcoords"
           }
          ],
          "pie": [
           {
            "automargin": true,
            "type": "pie"
           }
          ],
          "scatter": [
           {
            "fillpattern": {
             "fillmode": "overlay",
             "size": 10,
             "solidity": 0.2
            },
            "type": "scatter"
           }
          ],
          "scatter3d": [
           {
            "line": {
             "colorbar": {
              "outlinewidth": 0,
              "ticks": ""
             }
            },
            "marker": {
             "colorbar": {
              "outlinewidth": 0,
              "ticks": ""
             }
            },
            "type": "scatter3d"
           }
          ],
          "scattercarpet": [
           {
            "marker": {
             "colorbar": {
              "outlinewidth": 0,
              "ticks": ""
             }
            },
            "type": "scattercarpet"
           }
          ],
          "scattergeo": [
           {
            "marker": {
             "colorbar": {
              "outlinewidth": 0,
              "ticks": ""
             }
            },
            "type": "scattergeo"
           }
          ],
          "scattergl": [
           {
            "marker": {
             "colorbar": {
              "outlinewidth": 0,
              "ticks": ""
             }
            },
            "type": "scattergl"
           }
          ],
          "scattermapbox": [
           {
            "marker": {
             "colorbar": {
              "outlinewidth": 0,
              "ticks": ""
             }
            },
            "type": "scattermapbox"
           }
          ],
          "scatterpolar": [
           {
            "marker": {
             "colorbar": {
              "outlinewidth": 0,
              "ticks": ""
             }
            },
            "type": "scatterpolar"
           }
          ],
          "scatterpolargl": [
           {
            "marker": {
             "colorbar": {
              "outlinewidth": 0,
              "ticks": ""
             }
            },
            "type": "scatterpolargl"
           }
          ],
          "scatterternary": [
           {
            "marker": {
             "colorbar": {
              "outlinewidth": 0,
              "ticks": ""
             }
            },
            "type": "scatterternary"
           }
          ],
          "surface": [
           {
            "colorbar": {
             "outlinewidth": 0,
             "ticks": ""
            },
            "colorscale": [
             [
              0,
              "#0d0887"
             ],
             [
              0.1111111111111111,
              "#46039f"
             ],
             [
              0.2222222222222222,
              "#7201a8"
             ],
             [
              0.3333333333333333,
              "#9c179e"
             ],
             [
              0.4444444444444444,
              "#bd3786"
             ],
             [
              0.5555555555555556,
              "#d8576b"
             ],
             [
              0.6666666666666666,
              "#ed7953"
             ],
             [
              0.7777777777777778,
              "#fb9f3a"
             ],
             [
              0.8888888888888888,
              "#fdca26"
             ],
             [
              1,
              "#f0f921"
             ]
            ],
            "type": "surface"
           }
          ],
          "table": [
           {
            "cells": {
             "fill": {
              "color": "#EBF0F8"
             },
             "line": {
              "color": "white"
             }
            },
            "header": {
             "fill": {
              "color": "#C8D4E3"
             },
             "line": {
              "color": "white"
             }
            },
            "type": "table"
           }
          ]
         },
         "layout": {
          "annotationdefaults": {
           "arrowcolor": "#2a3f5f",
           "arrowhead": 0,
           "arrowwidth": 1
          },
          "autotypenumbers": "strict",
          "coloraxis": {
           "colorbar": {
            "outlinewidth": 0,
            "ticks": ""
           }
          },
          "colorscale": {
           "diverging": [
            [
             0,
             "#8e0152"
            ],
            [
             0.1,
             "#c51b7d"
            ],
            [
             0.2,
             "#de77ae"
            ],
            [
             0.3,
             "#f1b6da"
            ],
            [
             0.4,
             "#fde0ef"
            ],
            [
             0.5,
             "#f7f7f7"
            ],
            [
             0.6,
             "#e6f5d0"
            ],
            [
             0.7,
             "#b8e186"
            ],
            [
             0.8,
             "#7fbc41"
            ],
            [
             0.9,
             "#4d9221"
            ],
            [
             1,
             "#276419"
            ]
           ],
           "sequential": [
            [
             0,
             "#0d0887"
            ],
            [
             0.1111111111111111,
             "#46039f"
            ],
            [
             0.2222222222222222,
             "#7201a8"
            ],
            [
             0.3333333333333333,
             "#9c179e"
            ],
            [
             0.4444444444444444,
             "#bd3786"
            ],
            [
             0.5555555555555556,
             "#d8576b"
            ],
            [
             0.6666666666666666,
             "#ed7953"
            ],
            [
             0.7777777777777778,
             "#fb9f3a"
            ],
            [
             0.8888888888888888,
             "#fdca26"
            ],
            [
             1,
             "#f0f921"
            ]
           ],
           "sequentialminus": [
            [
             0,
             "#0d0887"
            ],
            [
             0.1111111111111111,
             "#46039f"
            ],
            [
             0.2222222222222222,
             "#7201a8"
            ],
            [
             0.3333333333333333,
             "#9c179e"
            ],
            [
             0.4444444444444444,
             "#bd3786"
            ],
            [
             0.5555555555555556,
             "#d8576b"
            ],
            [
             0.6666666666666666,
             "#ed7953"
            ],
            [
             0.7777777777777778,
             "#fb9f3a"
            ],
            [
             0.8888888888888888,
             "#fdca26"
            ],
            [
             1,
             "#f0f921"
            ]
           ]
          },
          "colorway": [
           "#636efa",
           "#EF553B",
           "#00cc96",
           "#ab63fa",
           "#FFA15A",
           "#19d3f3",
           "#FF6692",
           "#B6E880",
           "#FF97FF",
           "#FECB52"
          ],
          "font": {
           "color": "#2a3f5f"
          },
          "geo": {
           "bgcolor": "white",
           "lakecolor": "white",
           "landcolor": "#E5ECF6",
           "showlakes": true,
           "showland": true,
           "subunitcolor": "white"
          },
          "hoverlabel": {
           "align": "left"
          },
          "hovermode": "closest",
          "mapbox": {
           "style": "light"
          },
          "paper_bgcolor": "white",
          "plot_bgcolor": "#E5ECF6",
          "polar": {
           "angularaxis": {
            "gridcolor": "white",
            "linecolor": "white",
            "ticks": ""
           },
           "bgcolor": "#E5ECF6",
           "radialaxis": {
            "gridcolor": "white",
            "linecolor": "white",
            "ticks": ""
           }
          },
          "scene": {
           "xaxis": {
            "backgroundcolor": "#E5ECF6",
            "gridcolor": "white",
            "gridwidth": 2,
            "linecolor": "white",
            "showbackground": true,
            "ticks": "",
            "zerolinecolor": "white"
           },
           "yaxis": {
            "backgroundcolor": "#E5ECF6",
            "gridcolor": "white",
            "gridwidth": 2,
            "linecolor": "white",
            "showbackground": true,
            "ticks": "",
            "zerolinecolor": "white"
           },
           "zaxis": {
            "backgroundcolor": "#E5ECF6",
            "gridcolor": "white",
            "gridwidth": 2,
            "linecolor": "white",
            "showbackground": true,
            "ticks": "",
            "zerolinecolor": "white"
           }
          },
          "shapedefaults": {
           "line": {
            "color": "#2a3f5f"
           }
          },
          "ternary": {
           "aaxis": {
            "gridcolor": "white",
            "linecolor": "white",
            "ticks": ""
           },
           "baxis": {
            "gridcolor": "white",
            "linecolor": "white",
            "ticks": ""
           },
           "bgcolor": "#E5ECF6",
           "caxis": {
            "gridcolor": "white",
            "linecolor": "white",
            "ticks": ""
           }
          },
          "title": {
           "x": 0.05
          },
          "xaxis": {
           "automargin": true,
           "gridcolor": "white",
           "linecolor": "white",
           "ticks": "",
           "title": {
            "standoff": 15
           },
           "zerolinecolor": "white",
           "zerolinewidth": 2
          },
          "yaxis": {
           "automargin": true,
           "gridcolor": "white",
           "linecolor": "white",
           "ticks": "",
           "title": {
            "standoff": 15
           },
           "zerolinecolor": "white",
           "zerolinewidth": 2
          }
         }
        }
       }
      }
     },
     "metadata": {},
     "output_type": "display_data"
    }
   ],
   "source": [
    "import plotly.graph_objects as go\n",
    "\n",
    "# two vectors in R3\n",
    "v1 = np.array([3, 5, 1])\n",
    "v2 = np.array([0, 2, 2])\n",
    "\n",
    "# random scalars in the x-axis range\n",
    "scalars = np.random.uniform(low=xlim[0], high=xlim[1], size=(100,2))    # uniform: draw samples from a uniform distribution(균등분포)\n",
    "\n",
    "# create random points\n",
    "points = np.zeros((100,3))\n",
    "for i in range(len(scalars)):\n",
    "\n",
    "    # define this point as a random weighted combination of the two vectors\n",
    "    points[i,:] = v1*scalars[i,0] + v2*scalars[i,1]\n",
    "\n",
    "\n",
    "# draw the dots in the plane\n",
    "fig = go.Figure( data=[go.Scatter3d(x=points[:,0], y=points[:,1], z=points[:,2], \n",
    "                                    mode='markers', marker=dict(size=6, color='black'))])\n",
    "\n",
    "fig.update_layout(margin=dict(l=0,r=0,b=0,t=0))\n",
    "fig.show()"
   ]
  },
  {
   "cell_type": "code",
   "execution_count": 8,
   "metadata": {},
   "outputs": [
    {
     "data": {
      "application/vnd.plotly.v1+json": {
       "config": {
        "plotlyServerURL": "https://plot.ly"
       },
       "data": [
        {
         "marker": {
          "color": "black",
          "size": 6
         },
         "mode": "markers",
         "type": "scatter3d",
         "x": [
          -8.315738038520145,
          0.4878918528396392,
          4.731283992761246,
          -3.9019659776186284,
          11.924983114445734,
          -0.6762183670265558,
          -3.953474755777089,
          -12.421521862438311,
          6.024335976023239,
          -10.60581599179805,
          4.106683507126855,
          -5.546078899781488,
          3.4546932422617442,
          -4.514704266077198,
          -10.18600351570048,
          13.131007313021044,
          5.376913453055417,
          5.190518289160074,
          -11.223234960401998,
          -0.5881645644291122,
          8.356959373684221,
          -15.79131391174388,
          0.04943561888197312,
          -2.1459756018142038,
          7.5970218227682045,
          4.227350395625483,
          7.1190339072078235,
          -5.201290240086021,
          7.120098812599442,
          3.785713509941657,
          6.118712940130422,
          -13.024726586873584,
          -0.39626439744794784,
          -9.506284742439583,
          11.965507780110544,
          2.484539696474285,
          -10.743905680091457,
          5.50063104332553,
          -3.806147666560772,
          -12.43323052924339,
          -11.521839734066857,
          -8.25000772071743,
          -15.049042341429383,
          2.7114501419281627,
          -6.347379642956206,
          -2.4320779867231166,
          -7.367816514394407,
          5.910189161703531,
          1.7465303083836123,
          9.841244237419886,
          -14.591400732764745,
          0.13431758417723882,
          -1.0964809564962392,
          -4.799871647582515,
          -13.497911403167606,
          6.283161888991015,
          6.8558390290604,
          1.2291248187405626,
          -6.22081677952604,
          14.895787904825164,
          9.864056663610175,
          -7.256426062990108,
          0.25337386938726647,
          5.284403741102652,
          -6.9391415562802115,
          -4.377628669650688,
          -13.006629636809834,
          -12.285518435211525,
          -8.882261414077504,
          9.431392184502453,
          3.651932581247386,
          13.25728990346822,
          1.6766928411539186,
          -7.844104137635588,
          1.6324435787878504,
          9.958213204150242,
          4.348316590499429,
          8.595084143729633,
          -1.6221444494408446,
          -9.98291466531029,
          -9.493121037845103,
          -5.247832935767392,
          4.7925326751817625,
          -10.210588202246747,
          -4.123238344120099,
          3.9341357562331427,
          10.34070181610612,
          9.965015250302905,
          6.764545266087646,
          9.671232468260317,
          9.524556325191796,
          -3.0496601114823183,
          13.465237744495804,
          -0.9830616409346522,
          13.707796996387588,
          -2.4885385777983635,
          3.9922993585027626,
          -6.054202989320116,
          6.7368889489715205,
          10.594210873725347
         ],
         "y": [
          -13.859563397533577,
          0.8131530880660653,
          7.885473321268743,
          -6.503276629364381,
          19.874971857409555,
          -1.1270306117109263,
          -6.589124592961816,
          -20.702536437397185,
          10.040559960038735,
          -17.676359986330084,
          6.844472511878091,
          -9.243464832969146,
          5.75782207043624,
          -7.524507110128662,
          -16.976672526167462,
          21.885012188368403,
          8.96152242175903,
          8.650863815266788,
          -18.705391600669998,
          -0.9802742740485204,
          13.928265622807034,
          -26.31885651957313,
          0.08239269813662187,
          -3.576626003023673,
          12.661703037947007,
          7.045583992709137,
          11.865056512013037,
          -8.668817066810035,
          11.866831354332403,
          6.3095225165694275,
          10.197854900217369,
          -21.707877644789306,
          -0.6604406624132464,
          -15.843807904065969,
          19.942512966850906,
          4.140899494123809,
          -17.906509466819095,
          9.167718405542551,
          -6.343579444267956,
          -20.722050882072317,
          -19.203066223444765,
          -13.750012867862385,
          -25.081737235715636,
          4.51908356988027,
          -10.578966071593676,
          -4.053463311205195,
          -12.279694190657347,
          9.850315269505884,
          2.910883847306021,
          16.402073729033145,
          -24.319001221274576,
          0.2238626402953976,
          -1.8274682608270654,
          -7.999786079304192,
          -22.496519005279342,
          10.471936481651692,
          11.426398381767333,
          2.0485413645676047,
          -10.368027965876735,
          24.82631317470861,
          16.44009443935029,
          -12.094043438316845,
          0.42228978231211034,
          8.80733956850442,
          -11.565235927133688,
          -7.296047782751147,
          -21.67771606134972,
          -20.475864058685875,
          -14.803769023462506,
          15.718986974170758,
          6.0865543020789765,
          22.095483172447032,
          2.794488068589864,
          -13.073506896059314,
          2.7207392979797507,
          16.597022006917072,
          7.24719431749905,
          14.325140239549391,
          -2.7035740824014076,
          -16.638191108850485,
          -15.821868396408501,
          -8.746388226278988,
          7.98755445863627,
          -17.017647003744578,
          -6.872063906866832,
          6.556892927055237,
          17.234503026843537,
          16.60835875050484,
          11.274242110146078,
          16.118720780433858,
          15.874260541986327,
          -5.082766852470531,
          22.442062907493003,
          -1.6384360682244203,
          22.846328327312648,
          -4.147564296330605,
          6.653832264171272,
          -10.090338315533526,
          11.228148248285867,
          17.657018122875577
         ],
         "z": [
          -2.7719126795067153,
          0.16263061761321307,
          1.5770946642537487,
          -1.3006553258728761,
          3.974994371481911,
          -0.22540612234218527,
          -1.317824918592363,
          -4.140507287479437,
          2.0081119920077466,
          -3.5352719972660167,
          1.368894502375618,
          -1.8486929665938292,
          1.151564414087248,
          -1.5049014220257324,
          -3.395334505233493,
          4.377002437673681,
          1.792304484351806,
          1.7301727630533579,
          -3.741078320133999,
          -0.19605485480970408,
          2.785653124561407,
          -5.263771303914627,
          0.016478539627324373,
          -0.7153252006047346,
          2.5323406075894015,
          1.4091167985418274,
          2.373011302402608,
          -1.733763413362007,
          2.3733662708664807,
          1.2619045033138856,
          2.039570980043474,
          -4.341575528957861,
          -0.13208813248264928,
          -3.168761580813194,
          3.9885025933701814,
          0.8281798988247617,
          -3.5813018933638188,
          1.8335436811085102,
          -1.268715888853591,
          -4.144410176414464,
          -3.8406132446889525,
          -2.750002573572477,
          -5.0163474471431275,
          0.9038167139760542,
          -2.1157932143187352,
          -0.8106926622410389,
          -2.4559388381314693,
          1.970063053901177,
          0.5821767694612041,
          3.280414745806629,
          -4.863800244254914,
          0.04477252805907961,
          -0.3654936521654131,
          -1.5999572158608384,
          -4.499303801055869,
          2.0943872963303383,
          2.2852796763534666,
          0.40970827291352085,
          -2.0736055931753468,
          4.9652626349417215,
          3.288018887870058,
          -2.418808687663369,
          0.08445795646242216,
          1.761467913700884,
          -2.313047185426737,
          -1.4592095565502294,
          -4.335543212269944,
          -4.095172811737175,
          -2.9607538046925015,
          3.1437973948341513,
          1.2173108604157954,
          4.4190966344894065,
          0.5588976137179729,
          -2.6147013792118625,
          0.5441478595959501,
          3.319404401383414,
          1.4494388634998097,
          2.865028047909878,
          -0.5407148164802815,
          -3.327638221770097,
          -3.1643736792817005,
          -1.7492776452557974,
          1.597510891727254,
          -3.4035294007489156,
          -1.3744127813733664,
          1.3113785854110476,
          3.446900605368707,
          3.3216717501009683,
          2.2548484220292155,
          3.223744156086772,
          3.1748521083972654,
          -1.016553370494106,
          4.488412581498601,
          -0.32768721364488407,
          4.569265665462529,
          -0.8295128592661212,
          1.3307664528342542,
          -2.0180676631067054,
          2.2456296496571735,
          3.5314036245751157
         ]
        }
       ],
       "layout": {
        "margin": {
         "b": 0,
         "l": 0,
         "r": 0,
         "t": 0
        },
        "template": {
         "data": {
          "bar": [
           {
            "error_x": {
             "color": "#2a3f5f"
            },
            "error_y": {
             "color": "#2a3f5f"
            },
            "marker": {
             "line": {
              "color": "#E5ECF6",
              "width": 0.5
             },
             "pattern": {
              "fillmode": "overlay",
              "size": 10,
              "solidity": 0.2
             }
            },
            "type": "bar"
           }
          ],
          "barpolar": [
           {
            "marker": {
             "line": {
              "color": "#E5ECF6",
              "width": 0.5
             },
             "pattern": {
              "fillmode": "overlay",
              "size": 10,
              "solidity": 0.2
             }
            },
            "type": "barpolar"
           }
          ],
          "carpet": [
           {
            "aaxis": {
             "endlinecolor": "#2a3f5f",
             "gridcolor": "white",
             "linecolor": "white",
             "minorgridcolor": "white",
             "startlinecolor": "#2a3f5f"
            },
            "baxis": {
             "endlinecolor": "#2a3f5f",
             "gridcolor": "white",
             "linecolor": "white",
             "minorgridcolor": "white",
             "startlinecolor": "#2a3f5f"
            },
            "type": "carpet"
           }
          ],
          "choropleth": [
           {
            "colorbar": {
             "outlinewidth": 0,
             "ticks": ""
            },
            "type": "choropleth"
           }
          ],
          "contour": [
           {
            "colorbar": {
             "outlinewidth": 0,
             "ticks": ""
            },
            "colorscale": [
             [
              0,
              "#0d0887"
             ],
             [
              0.1111111111111111,
              "#46039f"
             ],
             [
              0.2222222222222222,
              "#7201a8"
             ],
             [
              0.3333333333333333,
              "#9c179e"
             ],
             [
              0.4444444444444444,
              "#bd3786"
             ],
             [
              0.5555555555555556,
              "#d8576b"
             ],
             [
              0.6666666666666666,
              "#ed7953"
             ],
             [
              0.7777777777777778,
              "#fb9f3a"
             ],
             [
              0.8888888888888888,
              "#fdca26"
             ],
             [
              1,
              "#f0f921"
             ]
            ],
            "type": "contour"
           }
          ],
          "contourcarpet": [
           {
            "colorbar": {
             "outlinewidth": 0,
             "ticks": ""
            },
            "type": "contourcarpet"
           }
          ],
          "heatmap": [
           {
            "colorbar": {
             "outlinewidth": 0,
             "ticks": ""
            },
            "colorscale": [
             [
              0,
              "#0d0887"
             ],
             [
              0.1111111111111111,
              "#46039f"
             ],
             [
              0.2222222222222222,
              "#7201a8"
             ],
             [
              0.3333333333333333,
              "#9c179e"
             ],
             [
              0.4444444444444444,
              "#bd3786"
             ],
             [
              0.5555555555555556,
              "#d8576b"
             ],
             [
              0.6666666666666666,
              "#ed7953"
             ],
             [
              0.7777777777777778,
              "#fb9f3a"
             ],
             [
              0.8888888888888888,
              "#fdca26"
             ],
             [
              1,
              "#f0f921"
             ]
            ],
            "type": "heatmap"
           }
          ],
          "heatmapgl": [
           {
            "colorbar": {
             "outlinewidth": 0,
             "ticks": ""
            },
            "colorscale": [
             [
              0,
              "#0d0887"
             ],
             [
              0.1111111111111111,
              "#46039f"
             ],
             [
              0.2222222222222222,
              "#7201a8"
             ],
             [
              0.3333333333333333,
              "#9c179e"
             ],
             [
              0.4444444444444444,
              "#bd3786"
             ],
             [
              0.5555555555555556,
              "#d8576b"
             ],
             [
              0.6666666666666666,
              "#ed7953"
             ],
             [
              0.7777777777777778,
              "#fb9f3a"
             ],
             [
              0.8888888888888888,
              "#fdca26"
             ],
             [
              1,
              "#f0f921"
             ]
            ],
            "type": "heatmapgl"
           }
          ],
          "histogram": [
           {
            "marker": {
             "pattern": {
              "fillmode": "overlay",
              "size": 10,
              "solidity": 0.2
             }
            },
            "type": "histogram"
           }
          ],
          "histogram2d": [
           {
            "colorbar": {
             "outlinewidth": 0,
             "ticks": ""
            },
            "colorscale": [
             [
              0,
              "#0d0887"
             ],
             [
              0.1111111111111111,
              "#46039f"
             ],
             [
              0.2222222222222222,
              "#7201a8"
             ],
             [
              0.3333333333333333,
              "#9c179e"
             ],
             [
              0.4444444444444444,
              "#bd3786"
             ],
             [
              0.5555555555555556,
              "#d8576b"
             ],
             [
              0.6666666666666666,
              "#ed7953"
             ],
             [
              0.7777777777777778,
              "#fb9f3a"
             ],
             [
              0.8888888888888888,
              "#fdca26"
             ],
             [
              1,
              "#f0f921"
             ]
            ],
            "type": "histogram2d"
           }
          ],
          "histogram2dcontour": [
           {
            "colorbar": {
             "outlinewidth": 0,
             "ticks": ""
            },
            "colorscale": [
             [
              0,
              "#0d0887"
             ],
             [
              0.1111111111111111,
              "#46039f"
             ],
             [
              0.2222222222222222,
              "#7201a8"
             ],
             [
              0.3333333333333333,
              "#9c179e"
             ],
             [
              0.4444444444444444,
              "#bd3786"
             ],
             [
              0.5555555555555556,
              "#d8576b"
             ],
             [
              0.6666666666666666,
              "#ed7953"
             ],
             [
              0.7777777777777778,
              "#fb9f3a"
             ],
             [
              0.8888888888888888,
              "#fdca26"
             ],
             [
              1,
              "#f0f921"
             ]
            ],
            "type": "histogram2dcontour"
           }
          ],
          "mesh3d": [
           {
            "colorbar": {
             "outlinewidth": 0,
             "ticks": ""
            },
            "type": "mesh3d"
           }
          ],
          "parcoords": [
           {
            "line": {
             "colorbar": {
              "outlinewidth": 0,
              "ticks": ""
             }
            },
            "type": "parcoords"
           }
          ],
          "pie": [
           {
            "automargin": true,
            "type": "pie"
           }
          ],
          "scatter": [
           {
            "fillpattern": {
             "fillmode": "overlay",
             "size": 10,
             "solidity": 0.2
            },
            "type": "scatter"
           }
          ],
          "scatter3d": [
           {
            "line": {
             "colorbar": {
              "outlinewidth": 0,
              "ticks": ""
             }
            },
            "marker": {
             "colorbar": {
              "outlinewidth": 0,
              "ticks": ""
             }
            },
            "type": "scatter3d"
           }
          ],
          "scattercarpet": [
           {
            "marker": {
             "colorbar": {
              "outlinewidth": 0,
              "ticks": ""
             }
            },
            "type": "scattercarpet"
           }
          ],
          "scattergeo": [
           {
            "marker": {
             "colorbar": {
              "outlinewidth": 0,
              "ticks": ""
             }
            },
            "type": "scattergeo"
           }
          ],
          "scattergl": [
           {
            "marker": {
             "colorbar": {
              "outlinewidth": 0,
              "ticks": ""
             }
            },
            "type": "scattergl"
           }
          ],
          "scattermapbox": [
           {
            "marker": {
             "colorbar": {
              "outlinewidth": 0,
              "ticks": ""
             }
            },
            "type": "scattermapbox"
           }
          ],
          "scatterpolar": [
           {
            "marker": {
             "colorbar": {
              "outlinewidth": 0,
              "ticks": ""
             }
            },
            "type": "scatterpolar"
           }
          ],
          "scatterpolargl": [
           {
            "marker": {
             "colorbar": {
              "outlinewidth": 0,
              "ticks": ""
             }
            },
            "type": "scatterpolargl"
           }
          ],
          "scatterternary": [
           {
            "marker": {
             "colorbar": {
              "outlinewidth": 0,
              "ticks": ""
             }
            },
            "type": "scatterternary"
           }
          ],
          "surface": [
           {
            "colorbar": {
             "outlinewidth": 0,
             "ticks": ""
            },
            "colorscale": [
             [
              0,
              "#0d0887"
             ],
             [
              0.1111111111111111,
              "#46039f"
             ],
             [
              0.2222222222222222,
              "#7201a8"
             ],
             [
              0.3333333333333333,
              "#9c179e"
             ],
             [
              0.4444444444444444,
              "#bd3786"
             ],
             [
              0.5555555555555556,
              "#d8576b"
             ],
             [
              0.6666666666666666,
              "#ed7953"
             ],
             [
              0.7777777777777778,
              "#fb9f3a"
             ],
             [
              0.8888888888888888,
              "#fdca26"
             ],
             [
              1,
              "#f0f921"
             ]
            ],
            "type": "surface"
           }
          ],
          "table": [
           {
            "cells": {
             "fill": {
              "color": "#EBF0F8"
             },
             "line": {
              "color": "white"
             }
            },
            "header": {
             "fill": {
              "color": "#C8D4E3"
             },
             "line": {
              "color": "white"
             }
            },
            "type": "table"
           }
          ]
         },
         "layout": {
          "annotationdefaults": {
           "arrowcolor": "#2a3f5f",
           "arrowhead": 0,
           "arrowwidth": 1
          },
          "autotypenumbers": "strict",
          "coloraxis": {
           "colorbar": {
            "outlinewidth": 0,
            "ticks": ""
           }
          },
          "colorscale": {
           "diverging": [
            [
             0,
             "#8e0152"
            ],
            [
             0.1,
             "#c51b7d"
            ],
            [
             0.2,
             "#de77ae"
            ],
            [
             0.3,
             "#f1b6da"
            ],
            [
             0.4,
             "#fde0ef"
            ],
            [
             0.5,
             "#f7f7f7"
            ],
            [
             0.6,
             "#e6f5d0"
            ],
            [
             0.7,
             "#b8e186"
            ],
            [
             0.8,
             "#7fbc41"
            ],
            [
             0.9,
             "#4d9221"
            ],
            [
             1,
             "#276419"
            ]
           ],
           "sequential": [
            [
             0,
             "#0d0887"
            ],
            [
             0.1111111111111111,
             "#46039f"
            ],
            [
             0.2222222222222222,
             "#7201a8"
            ],
            [
             0.3333333333333333,
             "#9c179e"
            ],
            [
             0.4444444444444444,
             "#bd3786"
            ],
            [
             0.5555555555555556,
             "#d8576b"
            ],
            [
             0.6666666666666666,
             "#ed7953"
            ],
            [
             0.7777777777777778,
             "#fb9f3a"
            ],
            [
             0.8888888888888888,
             "#fdca26"
            ],
            [
             1,
             "#f0f921"
            ]
           ],
           "sequentialminus": [
            [
             0,
             "#0d0887"
            ],
            [
             0.1111111111111111,
             "#46039f"
            ],
            [
             0.2222222222222222,
             "#7201a8"
            ],
            [
             0.3333333333333333,
             "#9c179e"
            ],
            [
             0.4444444444444444,
             "#bd3786"
            ],
            [
             0.5555555555555556,
             "#d8576b"
            ],
            [
             0.6666666666666666,
             "#ed7953"
            ],
            [
             0.7777777777777778,
             "#fb9f3a"
            ],
            [
             0.8888888888888888,
             "#fdca26"
            ],
            [
             1,
             "#f0f921"
            ]
           ]
          },
          "colorway": [
           "#636efa",
           "#EF553B",
           "#00cc96",
           "#ab63fa",
           "#FFA15A",
           "#19d3f3",
           "#FF6692",
           "#B6E880",
           "#FF97FF",
           "#FECB52"
          ],
          "font": {
           "color": "#2a3f5f"
          },
          "geo": {
           "bgcolor": "white",
           "lakecolor": "white",
           "landcolor": "#E5ECF6",
           "showlakes": true,
           "showland": true,
           "subunitcolor": "white"
          },
          "hoverlabel": {
           "align": "left"
          },
          "hovermode": "closest",
          "mapbox": {
           "style": "light"
          },
          "paper_bgcolor": "white",
          "plot_bgcolor": "#E5ECF6",
          "polar": {
           "angularaxis": {
            "gridcolor": "white",
            "linecolor": "white",
            "ticks": ""
           },
           "bgcolor": "#E5ECF6",
           "radialaxis": {
            "gridcolor": "white",
            "linecolor": "white",
            "ticks": ""
           }
          },
          "scene": {
           "xaxis": {
            "backgroundcolor": "#E5ECF6",
            "gridcolor": "white",
            "gridwidth": 2,
            "linecolor": "white",
            "showbackground": true,
            "ticks": "",
            "zerolinecolor": "white"
           },
           "yaxis": {
            "backgroundcolor": "#E5ECF6",
            "gridcolor": "white",
            "gridwidth": 2,
            "linecolor": "white",
            "showbackground": true,
            "ticks": "",
            "zerolinecolor": "white"
           },
           "zaxis": {
            "backgroundcolor": "#E5ECF6",
            "gridcolor": "white",
            "gridwidth": 2,
            "linecolor": "white",
            "showbackground": true,
            "ticks": "",
            "zerolinecolor": "white"
           }
          },
          "shapedefaults": {
           "line": {
            "color": "#2a3f5f"
           }
          },
          "ternary": {
           "aaxis": {
            "gridcolor": "white",
            "linecolor": "white",
            "ticks": ""
           },
           "baxis": {
            "gridcolor": "white",
            "linecolor": "white",
            "ticks": ""
           },
           "bgcolor": "#E5ECF6",
           "caxis": {
            "gridcolor": "white",
            "linecolor": "white",
            "ticks": ""
           }
          },
          "title": {
           "x": 0.05
          },
          "xaxis": {
           "automargin": true,
           "gridcolor": "white",
           "linecolor": "white",
           "ticks": "",
           "title": {
            "standoff": 15
           },
           "zerolinecolor": "white",
           "zerolinewidth": 2
          },
          "yaxis": {
           "automargin": true,
           "gridcolor": "white",
           "linecolor": "white",
           "ticks": "",
           "title": {
            "standoff": 15
           },
           "zerolinecolor": "white",
           "zerolinewidth": 2
          }
         }
        }
       }
      }
     },
     "metadata": {},
     "output_type": "display_data"
    }
   ],
   "source": [
    "## uncomment the lines below for the second part\n",
    "v1 = np.array([ 3.0,5.0,1.0 ])\n",
    "v2 = np.array([ 1.5,2.5,0.5 ])\n",
    "\n",
    "# random scalars in the x-axis range\n",
    "scalars = np.random.uniform(low=xlim[0], high=xlim[1], size=(100,2))    # uniform: draw samples from a uniform distribution(균등분포)\n",
    "\n",
    "# create random points\n",
    "points = np.zeros((100,3))\n",
    "for i in range(len(scalars)):\n",
    "\n",
    "    # define this point as a random weighted combination of the two vectors\n",
    "    points[i,:] = v1*scalars[i,0] + v2*scalars[i,1]\n",
    "\n",
    "\n",
    "# draw the dots in the plane\n",
    "fig = go.Figure( data=[go.Scatter3d(x=points[:,0], y=points[:,1], z=points[:,2], \n",
    "                                    mode='markers', marker=dict(size=6, color='black'))])\n",
    "\n",
    "fig.update_layout(margin=dict(l=0,r=0,b=0,t=0))\n",
    "fig.show()"
   ]
  }
 ],
 "metadata": {
  "kernelspec": {
   "display_name": "base",
   "language": "python",
   "name": "python3"
  },
  "language_info": {
   "codemirror_mode": {
    "name": "ipython",
    "version": 3
   },
   "file_extension": ".py",
   "mimetype": "text/x-python",
   "name": "python",
   "nbconvert_exporter": "python",
   "pygments_lexer": "ipython3",
   "version": "3.7.6"
  }
 },
 "nbformat": 4,
 "nbformat_minor": 2
}
