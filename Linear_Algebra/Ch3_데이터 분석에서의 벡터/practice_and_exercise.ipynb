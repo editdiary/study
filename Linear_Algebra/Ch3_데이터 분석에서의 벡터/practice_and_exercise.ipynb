{
 "cells": [
  {
   "cell_type": "code",
   "execution_count": 2,
   "metadata": {},
   "outputs": [],
   "source": [
    "import numpy as np\n",
    "import matplotlib.pyplot as plt\n",
    "import pandas as pd"
   ]
  },
  {
   "cell_type": "markdown",
   "metadata": {},
   "source": [
    "# Exercises"
   ]
  },
  {
   "cell_type": "markdown",
   "metadata": {},
   "source": [
    "## Exercise 1"
   ]
  },
  {
   "cell_type": "code",
   "execution_count": 3,
   "metadata": {},
   "outputs": [
    {
     "name": "stdout",
     "output_type": "stream",
     "text": [
      "-0.1713498247097766 -0.17134982470977658\n"
     ]
    }
   ],
   "source": [
    "# the function\n",
    "def corrAndCosine(x, y):\n",
    "\n",
    "    # compute cosine similarity\n",
    "    num = np.dot(x, y)  # numerator\n",
    "    den = np.linalg.norm(x) * np.linalg.norm(y)  # denominator\n",
    "    cos = num / den\n",
    "\n",
    "    # compute correlation (similar to above but mean-centered!)\n",
    "    xm = x - np.mean(x)\n",
    "    ym = y - np.mean(y)\n",
    "    num = np.dot(xm, ym)  # numerator\n",
    "    den = np.linalg.norm(xm) * np.linalg.norm(ym)  # denominator\n",
    "    cor = num / den\n",
    "\n",
    "    return cor, cos\n",
    "\n",
    "# test it\n",
    "a = np.random.randn(15)\n",
    "b = np.random.randn(15)\n",
    "\n",
    "# compute the correlation and cosine\n",
    "r, c = corrAndCosine(a, b)\n",
    "\n",
    "# confirm that the correlation matches with np.corrcoef\n",
    "print(r, np.corrcoef(a, b)[0, 1])"
   ]
  },
  {
   "cell_type": "code",
   "execution_count": 4,
   "metadata": {},
   "outputs": [
    {
     "name": "stdout",
     "output_type": "stream",
     "text": [
      "Without mean-centering (should differ):\n",
      "[-0.4646  0.2407]\n",
      " \n",
      "With mean-centering (should be the same):\n",
      "[-0.4646 -0.4646]\n"
     ]
    }
   ],
   "source": [
    "\n",
    "# compare r and c without mean-centering\n",
    "a = np.random.randn(15) + 10 # note the offset!\n",
    "b = np.random.randn(15)\n",
    "\n",
    "# mean-center\n",
    "aNoMean = a - np.mean(a)\n",
    "bNoMean = b - np.mean(b)\n",
    "\n",
    "\n",
    "# show the results with and without mean-centering\n",
    "print('Without mean-centering (should differ):')\n",
    "print( np.round(corrAndCosine(a,b),4) )\n",
    "print(' ')\n",
    "\n",
    "print('With mean-centering (should be the same):')\n",
    "print( np.round(corrAndCosine(aNoMean,bNoMean),4) )\n",
    "\n",
    "# NOTE: In the printing code above, I rounded to 4 significant digits just for visual clarity."
   ]
  }
 ],
 "metadata": {
  "kernelspec": {
   "display_name": "py37",
   "language": "python",
   "name": "python3"
  },
  "language_info": {
   "codemirror_mode": {
    "name": "ipython",
    "version": 3
   },
   "file_extension": ".py",
   "mimetype": "text/x-python",
   "name": "python",
   "nbconvert_exporter": "python",
   "pygments_lexer": "ipython3",
   "version": "3.7.1"
  }
 },
 "nbformat": 4,
 "nbformat_minor": 2
}
