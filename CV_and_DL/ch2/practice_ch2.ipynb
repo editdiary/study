{
 "cells": [
  {
   "cell_type": "markdown",
   "metadata": {},
   "source": [
    "# 이미지를 읽고 표시하기"
   ]
  },
  {
   "cell_type": "code",
   "execution_count": 1,
   "metadata": {},
   "outputs": [],
   "source": [
    "import cv2 as cv\n",
    "import sys\n",
    "\n",
    "img = cv.imread('soccer.jpg')\n",
    "\n",
    "if img is None:\n",
    "    sys.exit('Could not read the image.')\n",
    "\n",
    "cv.imshow('Image Displat', img)\n",
    "\n",
    "cv.waitKey()                # wait for any key press\n",
    "cv.destroyAllWindows()      # close the window"
   ]
  },
  {
   "cell_type": "code",
   "execution_count": 2,
   "metadata": {},
   "outputs": [
    {
     "data": {
      "text/plain": [
       "numpy.ndarray"
      ]
     },
     "execution_count": 2,
     "metadata": {},
     "output_type": "execute_result"
    }
   ],
   "source": [
    "type(img)"
   ]
  },
  {
   "cell_type": "code",
   "execution_count": 3,
   "metadata": {},
   "outputs": [
    {
     "data": {
      "text/plain": [
       "(948, 1434, 3)"
      ]
     },
     "execution_count": 3,
     "metadata": {},
     "output_type": "execute_result"
    }
   ],
   "source": [
    "img.shape"
   ]
  },
  {
   "cell_type": "code",
   "execution_count": 4,
   "metadata": {},
   "outputs": [
    {
     "name": "stdout",
     "output_type": "stream",
     "text": [
      "162 104 98\n"
     ]
    }
   ],
   "source": [
    "print(img[0, 0, 0], img[0, 0, 1], img[0, 0, 2])     # BGR(OpenCV의 기본 컬러 포맷은 RGB가 아님)"
   ]
  },
  {
   "cell_type": "code",
   "execution_count": 5,
   "metadata": {},
   "outputs": [],
   "source": [
    "# import cv2 as cv\n",
    "# import sys\n",
    "\n",
    "if img is None:\n",
    "    sys.exit('Could not read the image.')\n",
    "\n",
    "cv.imshow('Image Displat', img)\n",
    "\n",
    "gray = cv.cvtColor(img, cv.COLOR_BGR2GRAY)                      # 컬러 이미지를 그레이스케일로 변환\n",
    "gray_small = cv.resize(gray, dsize=(0, 0), fx=0.5, fy=0.5)      # 이미지 크기를 50%로 축소\n",
    "\n",
    "cv.imwrite('soccer_gray.jpg', gray)                             # 이미지 저장\n",
    "cv.imwrite('soccer_gray_small.jpg', gray_small)\n",
    "\n",
    "cv.imshow('Color image', img)\n",
    "cv.imshow('Gray image', gray)\n",
    "cv.imshow('Gray image small', gray_small)\n",
    "\n",
    "cv.waitKey()\n",
    "cv.destroyAllWindows()"
   ]
  },
  {
   "cell_type": "markdown",
   "metadata": {},
   "source": [
    "# 웹 캠에서 비디오 읽기"
   ]
  },
  {
   "cell_type": "code",
   "execution_count": 1,
   "metadata": {},
   "outputs": [],
   "source": [
    "# 웹 캠으로 비디오 획득하기\n",
    "import cv2 as cv\n",
    "import sys\n",
    "\n",
    "cap = cv.VideoCapture(0, cv.CAP_DSHOW)      # 카메라와 연결 시도\n",
    "\n",
    "if not cap.isOpened():\n",
    "    sys.exit('Camera not working.')\n",
    "\n",
    "while True:\n",
    "    ret, frame = cap.read()                 # 비디오를 구성하는 프레임 획득\n",
    "\n",
    "    if not ret:\n",
    "        print('Cannot receive frame. Exiting ...')\n",
    "        break\n",
    "\n",
    "    cv.imshow('Video display', frame)\n",
    "\n",
    "    key = cv.waitKey(1)                      # 1ms 동안 키 입력 대기\n",
    "    if key == ord('q'):                      # 'q' 키를 누르면 종료 - ord() : 문자를 아스키 코드로 변환\n",
    "        break\n",
    "\n",
    "cap.release()                               # 카메라와의 연결 해제\n",
    "cv.destroyAllWindows()                      # 모든 창 닫기"
   ]
  },
  {
   "cell_type": "code",
   "execution_count": 3,
   "metadata": {},
   "outputs": [],
   "source": [
    "# 비디오에서 수집한 영상을 이어 붙이기\n",
    "import cv2 as cv\n",
    "import numpy as np\n",
    "import sys\n",
    "\n",
    "cap = cv.VideoCapture(0, cv.CAP_DSHOW)          # 카메라와 연결 시도\n",
    "\n",
    "if not cap.isOpened():\n",
    "    sys.exit('Camera not working.')\n",
    "\n",
    "frames = []\n",
    "while True:\n",
    "    ret, frame = cap.read()                     # 비디오를 구성하는 프레임 획득\n",
    "\n",
    "    if not ret:\n",
    "        print('Cannot receive frame. Exiting ...')\n",
    "        break\n",
    "\n",
    "    cv.imshow('Video display', frame)\n",
    "\n",
    "    key = cv.waitKey(1)                         # 1ms 동안 키 입력 대기\n",
    "    if key == ord('c'):\n",
    "        frames.append(frame)\n",
    "    elif key == ord('q'):                       # 'q' 키를 누르면 종료 - ord() : 문자를 아스키 코드로 변환\n",
    "        break\n",
    "\n",
    "cap.release()                                   # 카메라와의 연결 해제\n",
    "cv.destroyAllWindows()                          # 모든 창 닫기\n",
    "\n",
    "if len(frames) > 0:                             # 만일 수집된 이미지가 있을 경우\n",
    "    imgs = frames[0]\n",
    "    for i in range(1, min(3, len(frames))):\n",
    "        imgs = np.hstack((imgs, frames[i]))     # 수평 방향으로 최대 3개의 이미지 이어 붙이기\n",
    "    \n",
    "    cv.imshow('Captured images', imgs)\n",
    "\n",
    "    cv.waitKey()\n",
    "    cv.destroyAllWindows()"
   ]
  },
  {
   "cell_type": "markdown",
   "metadata": {},
   "source": [
    "# 그래픽 기능과 사용자 인터페이스 만들기"
   ]
  },
  {
   "cell_type": "code",
   "execution_count": 10,
   "metadata": {},
   "outputs": [],
   "source": [
    "# 영상에 도형을 그리고 글자 쓰기\n",
    "import cv2 as cv\n",
    "import sys\n",
    "\n",
    "img = cv.imread('girl_laughing.jpg')\n",
    "\n",
    "if img is None:\n",
    "    sys.exit('Could not read the image.')\n",
    "\n",
    "cv.rectangle(img, (830, 30), (1000, 200), (0, 0, 255), 2)                           # 직사각형 그리기 - (img, start point, end point, color, thickness)\n",
    "cv.putText(img, 'laugh', (830, 24), cv.FONT_HERSHEY_SIMPLEX, 1, (255, 0, 0), 2)     # 글자 쓰기 - (img, text, position, font, font size, color, thickness)\n",
    "\n",
    "cv.imshow('Draw', img)\n",
    "\n",
    "cv.waitKey()\n",
    "cv.destroyAllWindows()"
   ]
  },
  {
   "cell_type": "code",
   "execution_count": 15,
   "metadata": {},
   "outputs": [],
   "source": [
    "# 마우스로 클릭한 곳에 직사각형 그리기\n",
    "#import cv2 as cv\n",
    "#import sys\n",
    "\n",
    "img = cv.imread('girl_laughing.jpg')\n",
    "\n",
    "if img is None:\n",
    "    sys.exit('Could not read the image.')\n",
    "\n",
    "def draw(event, x, y, flags, param):        # callback function: 이벤트가 발생했을 때 시스템이 호출하는 함수\n",
    "    if event == cv.EVENT_LBUTTONDOWN:       # 마우스 왼쪽 버튼을 누르면\n",
    "        cv.rectangle(img, (x, y), (x+200, y+200), (0, 0, 255), 2)\n",
    "    elif event == cv.EVENT_RBUTTONDOWN:     # 마우스 오른쪽 버튼을 누르면\n",
    "        cv.rectangle(img, (x, y), (x+100, y+100), (255, 0, 0), 2)\n",
    "\n",
    "    cv.imshow('Drawing', img)\n",
    "\n",
    "cv.namedWindow('Drawing')\n",
    "cv.imshow('Drawing', img)\n",
    "\n",
    "cv.setMouseCallback('Drawing', draw)        # 마우스 이벤트 처리 함수 등록\n",
    "\n",
    "while True:\n",
    "    if cv.waitKey(1) == ord('q'):           # 'q' 키를 누르면 종료\n",
    "        cv.destroyAllWindows()\n",
    "        break"
   ]
  },
  {
   "cell_type": "code",
   "execution_count": 16,
   "metadata": {},
   "outputs": [],
   "source": [
    "# 마우스 드래그로 직사각형 그리기\n",
    "#import cv2 as cv\n",
    "#import sys\n",
    "\n",
    "img = cv.imread('girl_laughing.jpg')\n",
    "\n",
    "if img is None:\n",
    "    sys.exit('Could not read the image.')\n",
    "\n",
    "def draw(event, x, y, flags, param):\n",
    "    global ix, iy\n",
    "\n",
    "    if event == cv.EVENT_LBUTTONDOWN:           # 마우스 왼쪽 버튼을 눌렀을 때 초기 위치 저장\n",
    "        ix, iy = x, y\n",
    "    elif event == cv.EVENT_LBUTTONUP:           # 마우스 왼쪽 버튼을 땠을 때 직사각형 그리기\n",
    "        cv.rectangle(img, (ix, iy), (x, y), (0, 0, 255), 2)\n",
    "\n",
    "    cv.imshow('Drawing', img)\n",
    "\n",
    "cv.namedWindow('Drawing')\n",
    "cv.imshow('Drawing', img)\n",
    "\n",
    "cv.setMouseCallback('Drawing', draw)\n",
    "\n",
    "while True:\n",
    "    if cv.waitKey(1) == ord('q'):\n",
    "        cv.destroyAllWindows()\n",
    "        break"
   ]
  },
  {
   "cell_type": "markdown",
   "metadata": {},
   "source": [
    "# 페인팅 기능 만들기"
   ]
  },
  {
   "cell_type": "code",
   "execution_count": 18,
   "metadata": {},
   "outputs": [],
   "source": [
    "# 빨간색 붓과 파란색 붓으로 페인팅하기\n",
    "#import cv2 as cv\n",
    "#import sys\n",
    "\n",
    "img = cv.imread('soccer.jpg')\n",
    "\n",
    "if img is None:\n",
    "    sys.exit('Could not read the image.')\n",
    "\n",
    "BrushSiz = 5\n",
    "LColor, RColor = (255, 0, 0), (0, 0, 255)\n",
    "\n",
    "def painting(event, x, y, flags, param):\n",
    "    if event == cv.EVENT_LBUTTONDOWN:\n",
    "        cv.circle(img, (x, y), BrushSiz, LColor, -1)        # 왼쪽 버튼을 누르면 파란색으로 원 그리기\n",
    "    elif event == cv.EVENT_RBUTTONDOWN:\n",
    "        cv.circle(img, (x, y), BrushSiz, RColor, -1)        # 오른쪽 버튼을 누르면 빨간색으로 원 그리기\n",
    "    elif event == cv.EVENT_MOUSEMOVE and flags == cv.EVENT_FLAG_LBUTTON:\n",
    "        cv.circle(img, (x, y), BrushSiz, LColor, -1)        # 왼쪽 버튼을 누른 채로 마우스 이동 시 파란색으로 원 그리기\n",
    "    elif event == cv.EVENT_MOUSEMOVE and flags == cv.EVENT_FLAG_RBUTTON:\n",
    "        cv.circle(img, (x, y), BrushSiz, RColor, -1)        # 오른쪽 버튼을 누른 채로 마우스 이동 시 빨간색으로 원 그리기\n",
    "\n",
    "    cv.imshow('Painting', img)\n",
    "\n",
    "cv.namedWindow('Painting')\n",
    "cv.imshow('Painting', img)\n",
    "\n",
    "cv.setMouseCallback('Painting', painting)\n",
    "\n",
    "while(True):\n",
    "    if cv.waitKey(1) == ord('q'):\n",
    "        cv.destroyAllWindows()\n",
    "        break"
   ]
  }
 ],
 "metadata": {
  "kernelspec": {
   "display_name": "CV",
   "language": "python",
   "name": "python3"
  },
  "language_info": {
   "codemirror_mode": {
    "name": "ipython",
    "version": 3
   },
   "file_extension": ".py",
   "mimetype": "text/x-python",
   "name": "python",
   "nbconvert_exporter": "python",
   "pygments_lexer": "ipython3",
   "version": "3.8.19"
  }
 },
 "nbformat": 4,
 "nbformat_minor": 2
}
